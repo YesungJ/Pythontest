{
 "cells": [
  {
   "cell_type": "markdown",
   "metadata": {
    "colab_type": "text",
    "id": "EqgDyWj4fXmV"
   },
   "source": [
    "# 2019年5月7日（火曜日）\n",
    "# プログラミングI課題"
   ]
  },
  {
   "cell_type": "markdown",
   "metadata": {
    "colab_type": "text",
    "id": "Jxr2BBvMumqM"
   },
   "source": [
    "### 注意事項\n",
    "* 次回以降，プログラミング基礎1の講義や演習で新しくノートブックを作成したりアップロードしたりするときは， \n",
    "左のサイドバーで \"prokiso1-2019\" のフォルダに移動してから行おう．\n",
    "* 左のサイドバーで上位フォルダに移動するには，上部にあるフォルダ名をクリックすれば移動できる．\n",
    "\n",
    "* **その他にも，様々な機能が JupyterLab にはある．その操作を全て講義で説明することはできないが，知っていると便利な機能も沢山あるので，家で自分で調べておこう．**\n",
    "\n"
   ]
  },
  {
   "cell_type": "markdown",
   "metadata": {
    "colab_type": "text",
    "id": "uN54cDHLfXmY"
   },
   "source": [
    "## 課題1\n",
    "67, 121, 99, 108, 101 の整数がある．以下の問いに答えよ．\n",
    "\n",
    "### 課題1-1\n",
    "関数max()とmin()を用いて，これらの整数の最大値と最小値を表示せよ．"
   ]
  },
  {
   "cell_type": "code",
   "execution_count": 1,
   "metadata": {
    "colab": {},
    "colab_type": "code",
    "id": "Xgc_MNbpfXma"
   },
   "outputs": [
    {
     "name": "stdout",
     "output_type": "stream",
     "text": [
      "121\n",
      "67\n"
     ]
    }
   ],
   "source": [
    "print(max(67,121,99,108,101))  # 最大値\n",
    "print(min(67,121,99,108,101))  # 最小値"
   ]
  },
  {
   "cell_type": "markdown",
   "metadata": {},
   "source": [
    "### 課題1-2\n",
    "\n",
    "これらの整数をUnicodeとして，対応する文字に変えて表示せよ．"
   ]
  },
  {
   "cell_type": "code",
   "execution_count": 2,
   "metadata": {},
   "outputs": [
    {
     "name": "stdout",
     "output_type": "stream",
     "text": [
      "C y c l e\n"
     ]
    }
   ],
   "source": [
    "print(chr(67),chr(121),chr(99),chr(108),chr(101))\n",
    "# 1つずつ表示させても良いです．"
   ]
  },
  {
   "cell_type": "markdown",
   "metadata": {
    "colab_type": "text",
    "id": "NFFHpnvCfs1T"
   },
   "source": [
    "## 課題2\n",
    "キーボードから整数を入力し，その整数が100より大きければ\"True\"，大きくなければ\"False\"と表示せよ．\n",
    "\n",
    "【実行結果例】<font color=\"FF0000\">赤文字はキーボード入力</font>\n",
    "\n",
    "整数を入力してください：<font color=\"#FF0000\">120</font><br>\n",
    "True"
   ]
  },
  {
   "cell_type": "code",
   "execution_count": 3,
   "metadata": {},
   "outputs": [
    {
     "name": "stdin",
     "output_type": "stream",
     "text": [
      "数字を入力してください： 120\n"
     ]
    },
    {
     "name": "stdout",
     "output_type": "stream",
     "text": [
      "True\n"
     ]
    }
   ],
   "source": [
    "value = input(\"数字を入力してください：\")\n",
    "print(int(value) > 100)"
   ]
  },
  {
   "cell_type": "markdown",
   "metadata": {
    "colab_type": "text",
    "id": "Ye8v1LjqgEuF"
   },
   "source": [
    "## 課題3\n",
    "三角形3辺の長さa, b, cに値をキーボードより入力し，ヘロンの公式を用いて，その三角形の面積を求めよ．ただし，mathモジュールのsqrtを使用すること．\n",
    "\n",
    "【実行結果例】<font color=\"FF0000\">赤文字はキーボード入力</font>\n",
    "\n",
    "aを入力してください：<font color=\"#FF0000\">3</font><br>\n",
    "bを入力してください：<font color=\"#FF0000\">4</font><br>\n",
    "cを入力してください：<font color=\"#FF0000\">5</font><br>\n",
    "6.0"
   ]
  },
  {
   "cell_type": "code",
   "execution_count": 4,
   "metadata": {
    "colab": {},
    "colab_type": "code",
    "id": "GEoPHfDBgISx"
   },
   "outputs": [
    {
     "name": "stdin",
     "output_type": "stream",
     "text": [
      "aを入力してください： 3\n",
      "bを入力してください： 4\n",
      "cを入力してください： 5\n"
     ]
    },
    {
     "name": "stdout",
     "output_type": "stream",
     "text": [
      "6.0\n"
     ]
    }
   ],
   "source": [
    "import math\n",
    "a = int(input(\"aを入力してください：\"))\n",
    "b = int(input(\"bを入力してください：\"))\n",
    "c = int(input(\"cを入力してください：\"))\n",
    "s = (a + b + c) / 2\n",
    "area = math.sqrt(s * (s - a) * (s - b) * (s - c))\n",
    "print(area)"
   ]
  },
  {
   "cell_type": "markdown",
   "metadata": {
    "colab_type": "text",
    "id": "trd4x8sTg7c9"
   },
   "source": [
    "## 課題4\n",
    "コンピュータとサイコロゲームをするプログラムを作成しよう．\n",
    "\n",
    "randint()を用いてサイコロの目を出すように1～6の整数aを1つ発生させ，キーボードから入力した1～6の整数bと比較せよ．ただし，入力した数が大きければTrue，小さければFalse，あいこの場合はTrueと表示せよ．\n",
    "\n",
    "【実行結果例】<font color=\"FF0000\">赤文字はキーボード入力</font>\n",
    "\n",
    "整数1～6のうち1つを入力してください：<font color=\"#FF0000\">3</font><br>\n",
    "コンピュータ：2<br>\n",
    "あなた：3<br>\n",
    "True"
   ]
  },
  {
   "cell_type": "code",
   "execution_count": 5,
   "metadata": {},
   "outputs": [
    {
     "name": "stdin",
     "output_type": "stream",
     "text": [
      "整数1~6のうち1つを入力してください： 3\n"
     ]
    },
    {
     "name": "stdout",
     "output_type": "stream",
     "text": [
      "コンピュータ：6\n",
      "あなた：3\n",
      "False\n"
     ]
    }
   ],
   "source": [
    "from random import randint\n",
    "a = randint(1,6)\n",
    "b = int(input(\"整数1~6のうち1つを入力してください：\"))\n",
    "print(\"コンピュータ：\" + str(a))\n",
    "print(\"あなた：\" + str(b))\n",
    "print(a <= b)"
   ]
  },
  {
   "cell_type": "markdown",
   "metadata": {},
   "source": [
    "## 課題5（追加課題）\n",
    "2つの2次元ベクトル(x_1, y_1)，(x_2, y_2)の要素x_1, y_1, x_2, y_2を入力し，2つのベクトルがなす角を求めよ．その際，なす角は60分法で表示すること．\n",
    "\n",
    "【実行結果例】<font color=\"FF0000\">赤文字はキーボード入力</font>\n",
    "\n",
    "x_1を入力してください：<font color=\"#FF0000\">1</font><br>\n",
    "y_1を入力してください：<font color=\"#FF0000\">3</font><br>\n",
    "x_2を入力してください：<font color=\"#FF0000\">2</font><br>\n",
    "y_2を入力してください：<font color=\"#FF0000\">1</font><br>\n",
    "45.00000000000001度"
   ]
  },
  {
   "cell_type": "code",
   "execution_count": 1,
   "metadata": {},
   "outputs": [
    {
     "name": "stdin",
     "output_type": "stream",
     "text": [
      "x_1を入力してください： 1\n",
      "y_1を入力してください： 3\n",
      "x_2を入力してください： 2\n",
      "y_2を入力してください： 1\n"
     ]
    },
    {
     "name": "stdout",
     "output_type": "stream",
     "text": [
      "45.00000000000001度\n"
     ]
    }
   ],
   "source": [
    "import math\n",
    "x_1 = int(input(\"x_1を入力してください：\"))\n",
    "y_1 = int(input(\"y_1を入力してください：\"))\n",
    "x_2 = int(input(\"x_2を入力してください：\"))\n",
    "y_2 = int(input(\"y_2を入力してください：\"))\n",
    "theta = math.acos((x_1*x_2 + y_1*y_2) / (math.sqrt(x_1**2 + y_1**2) * math.sqrt(x_2**2 + y_2**2)))\n",
    "angle = math.degrees(theta)\n",
    "print(str(angle) + \"度\")"
   ]
  },
  {
   "cell_type": "code",
   "execution_count": null,
   "metadata": {},
   "outputs": [],
   "source": []
  }
 ],
 "metadata": {
  "colab": {
   "collapsed_sections": [],
   "name": "ex01-A.ipynb",
   "provenance": [],
   "toc_visible": true,
   "version": "0.3.2"
  },
  "kernelspec": {
   "display_name": "Python 3",
   "language": "python",
   "name": "python3"
  },
  "language_info": {
   "codemirror_mode": {
    "name": "ipython",
    "version": 3
   },
   "file_extension": ".py",
   "mimetype": "text/x-python",
   "name": "python",
   "nbconvert_exporter": "python",
   "pygments_lexer": "ipython3",
   "version": "3.7.1"
  }
 },
 "nbformat": 4,
 "nbformat_minor": 2
}
