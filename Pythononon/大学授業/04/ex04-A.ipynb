{
 "cells": [
  {
   "cell_type": "markdown",
   "metadata": {
    "colab_type": "text",
    "id": "EqgDyWj4fXmV"
   },
   "source": [
    "# 2019年5月7日（火曜日）\n",
    "# プログラミングI課題"
   ]
  },
  {
   "cell_type": "markdown",
   "metadata": {
    "colab_type": "text",
    "id": "Jxr2BBvMumqM"
   },
   "source": [
    "### 注意事項\n",
    "* 次回以降，プログラミング基礎1の講義や演習で新しくノートブックを作成したりアップロードしたりするときは， \n",
    "左のサイドバーで \"prokiso1-2019\" のフォルダに移動してから行おう．\n",
    "* 左のサイドバーで上位フォルダに移動するには，上部にあるフォルダ名をクリックすれば移動できる．\n",
    "\n",
    "* **その他にも，様々な機能が JupyterLab にはある．その操作を全て講義で説明することはできないが，知っていると便利な機能も沢山あるので，家で自分で調べておこう．**\n",
    "\n"
   ]
  },
  {
   "cell_type": "markdown",
   "metadata": {
    "colab_type": "text",
    "id": "uN54cDHLfXmY"
   },
   "source": [
    "## 課題1\n",
    "67, 121, 99, 108, 101 の整数がある．以下の問いに答えよ．\n",
    "\n",
    "### 課題1-1\n",
    "関数max()とmin()を用いて，これらの整数の最大値と最小値を表示せよ．"
   ]
  },
  {
   "cell_type": "code",
   "execution_count": null,
   "metadata": {
    "colab": {},
    "colab_type": "code",
    "id": "Xgc_MNbpfXma"
   },
   "outputs": [],
   "source": []
  },
  {
   "cell_type": "markdown",
   "metadata": {},
   "source": [
    "### 課題1-2\n",
    "\n",
    "これらの整数をUnicodeとして，対応する文字に変えて表示せよ．"
   ]
  },
  {
   "cell_type": "code",
   "execution_count": null,
   "metadata": {},
   "outputs": [],
   "source": []
  },
  {
   "cell_type": "markdown",
   "metadata": {
    "colab_type": "text",
    "id": "NFFHpnvCfs1T"
   },
   "source": [
    "## 課題2\n",
    "キーボードから整数を入力し，その整数が100より大きければ\"True\"，大きくなければ\"False\"と表示せよ．\n",
    "\n",
    "【実行結果例】<font color=\"FF0000\">赤文字はキーボード入力</font>\n",
    "\n",
    "整数を入力してください：<font color=\"#FF0000\">120</font><br>\n",
    "True"
   ]
  },
  {
   "cell_type": "code",
   "execution_count": null,
   "metadata": {},
   "outputs": [],
   "source": []
  },
  {
   "cell_type": "markdown",
   "metadata": {
    "colab_type": "text",
    "id": "Ye8v1LjqgEuF"
   },
   "source": [
    "## 課題3\n",
    "三角形3辺の長さa, b, cに値をキーボードより入力し，ヘロンの公式を用いて，その三角形の面積を求めよ．ただし，mathモジュールのsqrtを使用すること．\n",
    "\n",
    "【実行結果例】<font color=\"FF0000\">赤文字はキーボード入力</font>\n",
    "\n",
    "aを入力してください：<font color=\"#FF0000\">3</font><br>\n",
    "bを入力してください：<font color=\"#FF0000\">4</font><br>\n",
    "cを入力してください：<font color=\"#FF0000\">5</font><br>\n",
    "6.0"
   ]
  },
  {
   "cell_type": "code",
   "execution_count": null,
   "metadata": {
    "colab": {},
    "colab_type": "code",
    "id": "GEoPHfDBgISx"
   },
   "outputs": [],
   "source": []
  },
  {
   "cell_type": "markdown",
   "metadata": {
    "colab_type": "text",
    "id": "trd4x8sTg7c9"
   },
   "source": [
    "## 課題4\n",
    "コンピュータとサイコロゲームをするプログラムを作成しよう．\n",
    "\n",
    "randint()を用いてサイコロの目を出すように1～6の整数aを1つ発生させ，キーボードから入力した1～6の整数bと比較せよ．ただし，入力した数が大きければTrue，小さければFalse，あいこの場合はTrueと表示せよ．\n",
    "\n",
    "【実行結果例】<font color=\"FF0000\">赤文字はキーボード入力</font>\n",
    "\n",
    "整数1～6のうち1つを入力してください：<font color=\"#FF0000\">3</font><br>\n",
    "コンピュータ：2<br>\n",
    "あなた：3<br>\n",
    "True"
   ]
  },
  {
   "cell_type": "code",
   "execution_count": null,
   "metadata": {},
   "outputs": [],
   "source": []
  },
  {
   "cell_type": "markdown",
   "metadata": {},
   "source": [
    "## 課題5（追加課題）\n",
    "2つの2次元ベクトル(x_1, y_1)，(x_2, y_2)の要素x_1, y_1, x_2, y_2を入力し，2つのベクトルがなす角を求めよ．その際，なす角は60分法で表示すること．\n",
    "\n",
    "【実行結果例】<font color=\"FF0000\">赤文字はキーボード入力</font>\n",
    "\n",
    "x_1を入力してください：<font color=\"#FF0000\">1</font><br>\n",
    "y_1を入力してください：<font color=\"#FF0000\">3</font><br>\n",
    "x_2を入力してください：<font color=\"#FF0000\">2</font><br>\n",
    "y_2を入力してください：<font color=\"#FF0000\">1</font><br>\n",
    "45.00000000000001度"
   ]
  },
  {
   "cell_type": "code",
   "execution_count": null,
   "metadata": {},
   "outputs": [],
   "source": []
  }
 ],
 "metadata": {
  "colab": {
   "collapsed_sections": [],
   "name": "ex01-A.ipynb",
   "provenance": [],
   "toc_visible": true,
   "version": "0.3.2"
  },
  "kernelspec": {
   "display_name": "Python 3",
   "language": "python",
   "name": "python3"
  },
  "language_info": {
   "codemirror_mode": {
    "name": "ipython",
    "version": 3
   },
   "file_extension": ".py",
   "mimetype": "text/x-python",
   "name": "python",
   "nbconvert_exporter": "python",
   "pygments_lexer": "ipython3",
   "version": "3.7.1"
  }
 },
 "nbformat": 4,
 "nbformat_minor": 2
}
