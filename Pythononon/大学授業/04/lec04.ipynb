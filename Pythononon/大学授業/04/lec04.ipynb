{
 "cells": [
  {
   "cell_type": "markdown",
   "metadata": {
    "colab_type": "text",
    "id": "53OtdG5HwhD4"
   },
   "source": [
    "## 第4回 講義用ノートブック (P.74-82)\n",
    "### Chapter 4 標準ライブラリ\n",
    "### Section 4-1. 組み込み関数 (P.74)"
   ]
  },
  {
   "cell_type": "markdown",
   "metadata": {},
   "source": [
    "#### 関数とは"
   ]
  },
  {
   "cell_type": "code",
   "execution_count": null,
   "metadata": {
    "colab": {},
    "colab_type": "code",
    "id": "EyraGoZgwhD6",
    "outputId": "c261646f-fed8-4d33-9f7a-4146fc68d234"
   },
   "outputs": [],
   "source": []
  },
  {
   "cell_type": "markdown",
   "metadata": {},
   "source": [
    "#### 組み込み関数とは\n",
    "* いつでもどこでも呼び出せる関数\n",
    "* import(後述)をする必要がない\n",
    "* 既出のもの：  print(), type(),  str(), int(), float(), round() など"
   ]
  },
  {
   "cell_type": "code",
   "execution_count": null,
   "metadata": {
    "colab": {},
    "colab_type": "code",
    "id": "EyraGoZgwhD6",
    "outputId": "c261646f-fed8-4d33-9f7a-4146fc68d234"
   },
   "outputs": [],
   "source": []
  },
  {
   "cell_type": "markdown",
   "metadata": {},
   "source": [
    "#### 数値計算に使う関数"
   ]
  },
  {
   "cell_type": "markdown",
   "metadata": {},
   "source": [
    "* abs(): 絶対値"
   ]
  },
  {
   "cell_type": "code",
   "execution_count": null,
   "metadata": {
    "colab": {},
    "colab_type": "code",
    "id": "EyraGoZgwhD6",
    "outputId": "c261646f-fed8-4d33-9f7a-4146fc68d234"
   },
   "outputs": [],
   "source": []
  },
  {
   "cell_type": "markdown",
   "metadata": {},
   "source": [
    "* min(), max() : 最小値，最大値"
   ]
  },
  {
   "cell_type": "code",
   "execution_count": null,
   "metadata": {
    "colab": {},
    "colab_type": "code",
    "id": "EyraGoZgwhD6",
    "outputId": "c261646f-fed8-4d33-9f7a-4146fc68d234"
   },
   "outputs": [],
   "source": []
  },
  {
   "cell_type": "markdown",
   "metadata": {},
   "source": [
    "* pow(,) べき乗"
   ]
  },
  {
   "cell_type": "code",
   "execution_count": null,
   "metadata": {
    "colab": {},
    "colab_type": "code",
    "id": "EyraGoZgwhD6",
    "outputId": "c261646f-fed8-4d33-9f7a-4146fc68d234"
   },
   "outputs": [],
   "source": []
  },
  {
   "cell_type": "markdown",
   "metadata": {},
   "source": [
    "* round(,) 指定桁へ丸める"
   ]
  },
  {
   "cell_type": "code",
   "execution_count": null,
   "metadata": {
    "colab": {},
    "colab_type": "code",
    "id": "EyraGoZgwhD6",
    "outputId": "c261646f-fed8-4d33-9f7a-4146fc68d234"
   },
   "outputs": [],
   "source": []
  },
  {
   "cell_type": "markdown",
   "metadata": {},
   "source": [
    "#### 文字列に使う関数 (P.76)"
   ]
  },
  {
   "cell_type": "code",
   "execution_count": null,
   "metadata": {
    "colab": {},
    "colab_type": "code",
    "id": "EyraGoZgwhD6",
    "outputId": "c261646f-fed8-4d33-9f7a-4146fc68d234"
   },
   "outputs": [],
   "source": []
  },
  {
   "cell_type": "markdown",
   "metadata": {},
   "source": [
    "* ord() : 文字コード(unicode)を得る"
   ]
  },
  {
   "cell_type": "code",
   "execution_count": null,
   "metadata": {
    "colab": {},
    "colab_type": "code",
    "id": "EyraGoZgwhD6",
    "outputId": "c261646f-fed8-4d33-9f7a-4146fc68d234"
   },
   "outputs": [],
   "source": []
  },
  {
   "cell_type": "markdown",
   "metadata": {},
   "source": [
    "* chr() : 文字コード(unicode) に対応する文字列を得る．"
   ]
  },
  {
   "cell_type": "code",
   "execution_count": null,
   "metadata": {
    "colab": {},
    "colab_type": "code",
    "id": "EyraGoZgwhD6",
    "outputId": "c261646f-fed8-4d33-9f7a-4146fc68d234"
   },
   "outputs": [],
   "source": []
  },
  {
   "cell_type": "markdown",
   "metadata": {},
   "source": [
    "* len() : 文字長さを得る"
   ]
  },
  {
   "cell_type": "code",
   "execution_count": null,
   "metadata": {
    "colab": {},
    "colab_type": "code",
    "id": "EyraGoZgwhD6",
    "outputId": "c261646f-fed8-4d33-9f7a-4146fc68d234"
   },
   "outputs": [],
   "source": []
  },
  {
   "cell_type": "markdown",
   "metadata": {},
   "source": [
    "* str() : 整数や小数, bool値を文字列に変換する"
   ]
  },
  {
   "cell_type": "code",
   "execution_count": 1,
   "metadata": {
    "colab": {},
    "colab_type": "code",
    "id": "EyraGoZgwhD6",
    "outputId": "c261646f-fed8-4d33-9f7a-4146fc68d234"
   },
   "outputs": [
    {
     "data": {
      "text/plain": [
       "'True'"
      ]
     },
     "execution_count": 1,
     "metadata": {},
     "output_type": "execute_result"
    }
   ],
   "source": []
  },
  {
   "cell_type": "markdown",
   "metadata": {},
   "source": [
    "#### 入出力に使う関数 (P.77)"
   ]
  },
  {
   "cell_type": "markdown",
   "metadata": {},
   "source": [
    "* input() : 標準入力(キーボードから入力）"
   ]
  },
  {
   "cell_type": "code",
   "execution_count": null,
   "metadata": {
    "colab": {},
    "colab_type": "code",
    "id": "EyraGoZgwhD6",
    "outputId": "c261646f-fed8-4d33-9f7a-4146fc68d234"
   },
   "outputs": [],
   "source": []
  },
  {
   "cell_type": "markdown",
   "metadata": {},
   "source": [
    "* print(,,) : 標準出力(画面に表示)"
   ]
  },
  {
   "cell_type": "code",
   "execution_count": null,
   "metadata": {
    "colab": {},
    "colab_type": "code",
    "id": "EyraGoZgwhD6",
    "outputId": "c261646f-fed8-4d33-9f7a-4146fc68d234"
   },
   "outputs": [],
   "source": []
  },
  {
   "cell_type": "markdown",
   "metadata": {},
   "source": [
    "### Section 4-2. モジュールを読み込む (P.78)"
   ]
  },
  {
   "cell_type": "markdown",
   "metadata": {},
   "source": [
    "#### math モジュール (P.79)\n",
    "* mathモジュールの読み込み"
   ]
  },
  {
   "cell_type": "code",
   "execution_count": null,
   "metadata": {
    "colab": {},
    "colab_type": "code",
    "id": "EyraGoZgwhD6",
    "outputId": "c261646f-fed8-4d33-9f7a-4146fc68d234"
   },
   "outputs": [],
   "source": []
  },
  {
   "cell_type": "markdown",
   "metadata": {},
   "source": [
    "* mathモジュールの関数の使用例 (ceil(), floor())"
   ]
  },
  {
   "cell_type": "code",
   "execution_count": null,
   "metadata": {
    "colab": {},
    "colab_type": "code",
    "id": "EyraGoZgwhD6",
    "outputId": "c261646f-fed8-4d33-9f7a-4146fc68d234"
   },
   "outputs": [],
   "source": []
  },
  {
   "cell_type": "markdown",
   "metadata": {},
   "source": [
    "* mathモジュールの定数の例 ( pi )"
   ]
  },
  {
   "cell_type": "code",
   "execution_count": null,
   "metadata": {
    "colab": {},
    "colab_type": "code",
    "id": "EyraGoZgwhD6",
    "outputId": "c261646f-fed8-4d33-9f7a-4146fc68d234"
   },
   "outputs": [],
   "source": []
  },
  {
   "cell_type": "markdown",
   "metadata": {},
   "source": [
    "$\\pi/4$ ラジアン $=45$ 度 を確認 ( degrees() )"
   ]
  },
  {
   "cell_type": "code",
   "execution_count": null,
   "metadata": {
    "colab": {},
    "colab_type": "code",
    "id": "EyraGoZgwhD6",
    "outputId": "c261646f-fed8-4d33-9f7a-4146fc68d234"
   },
   "outputs": [],
   "source": []
  },
  {
   "cell_type": "markdown",
   "metadata": {},
   "source": [
    "#### [練習] 木までの距離と角度から，木の高さを求める(P.80)"
   ]
  },
  {
   "cell_type": "code",
   "execution_count": null,
   "metadata": {
    "colab": {},
    "colab_type": "code",
    "id": "EyraGoZgwhD6",
    "outputId": "c261646f-fed8-4d33-9f7a-4146fc68d234"
   },
   "outputs": [],
   "source": []
  },
  {
   "cell_type": "markdown",
   "metadata": {},
   "source": [
    "#### mathモジュールの関数と定数 (P.80)"
   ]
  },
  {
   "cell_type": "code",
   "execution_count": null,
   "metadata": {
    "colab": {},
    "colab_type": "code",
    "id": "EyraGoZgwhD6",
    "outputId": "c261646f-fed8-4d33-9f7a-4146fc68d234"
   },
   "outputs": [],
   "source": []
  },
  {
   "cell_type": "markdown",
   "metadata": {},
   "source": [
    "* ceil(), floor() : 切り上げと切り捨て"
   ]
  },
  {
   "cell_type": "code",
   "execution_count": null,
   "metadata": {
    "colab": {},
    "colab_type": "code",
    "id": "EyraGoZgwhD6",
    "outputId": "c261646f-fed8-4d33-9f7a-4146fc68d234"
   },
   "outputs": [],
   "source": []
  },
  {
   "cell_type": "markdown",
   "metadata": {},
   "source": [
    "* sin(), cos(), tan()"
   ]
  },
  {
   "cell_type": "code",
   "execution_count": null,
   "metadata": {
    "colab": {},
    "colab_type": "code",
    "id": "EyraGoZgwhD6",
    "outputId": "c261646f-fed8-4d33-9f7a-4146fc68d234"
   },
   "outputs": [],
   "source": []
  },
  {
   "cell_type": "markdown",
   "metadata": {},
   "source": [
    "* degrees(), radians() ラジアンと度の間の変換<br>\n",
    "　　　$2\\pi [ラジアン] = 360 [度]$"
   ]
  },
  {
   "cell_type": "code",
   "execution_count": null,
   "metadata": {
    "colab": {},
    "colab_type": "code",
    "id": "EyraGoZgwhD6",
    "outputId": "c261646f-fed8-4d33-9f7a-4146fc68d234"
   },
   "outputs": [],
   "source": []
  },
  {
   "cell_type": "markdown",
   "metadata": {},
   "source": [
    "* exp(), log() "
   ]
  },
  {
   "cell_type": "code",
   "execution_count": null,
   "metadata": {
    "colab": {},
    "colab_type": "code",
    "id": "EyraGoZgwhD6",
    "outputId": "c261646f-fed8-4d33-9f7a-4146fc68d234"
   },
   "outputs": [],
   "source": []
  },
  {
   "cell_type": "markdown",
   "metadata": {},
   "source": [
    "* sqrt() : 平方根"
   ]
  },
  {
   "cell_type": "code",
   "execution_count": null,
   "metadata": {
    "colab": {},
    "colab_type": "code",
    "id": "EyraGoZgwhD6",
    "outputId": "c261646f-fed8-4d33-9f7a-4146fc68d234"
   },
   "outputs": [],
   "source": []
  },
  {
   "cell_type": "markdown",
   "metadata": {},
   "source": [
    "#### モジュール内の特定の関数を指定して読み込む (P.81)"
   ]
  },
  {
   "cell_type": "markdown",
   "metadata": {},
   "source": [
    "* randomモジュールをインポートして randint()とを使ってみる．(教科書にない)"
   ]
  },
  {
   "cell_type": "code",
   "execution_count": null,
   "metadata": {},
   "outputs": [],
   "source": []
  },
  {
   "cell_type": "markdown",
   "metadata": {},
   "source": [
    "* random モジュールから randint() のみを読み込む"
   ]
  },
  {
   "cell_type": "code",
   "execution_count": null,
   "metadata": {
    "colab": {},
    "colab_type": "code",
    "id": "EyraGoZgwhD6",
    "outputId": "c261646f-fed8-4d33-9f7a-4146fc68d234"
   },
   "outputs": [],
   "source": []
  },
  {
   "cell_type": "markdown",
   "metadata": {},
   "source": [
    "* randint() の利用"
   ]
  },
  {
   "cell_type": "code",
   "execution_count": null,
   "metadata": {
    "colab": {},
    "colab_type": "code",
    "id": "EyraGoZgwhD6",
    "outputId": "c261646f-fed8-4d33-9f7a-4146fc68d234"
   },
   "outputs": [],
   "source": []
  },
  {
   "cell_type": "markdown",
   "metadata": {},
   "source": [
    "* random モジュールから random() のみを読み込む．\n",
    "* random()の利用．"
   ]
  },
  {
   "cell_type": "code",
   "execution_count": null,
   "metadata": {},
   "outputs": [],
   "source": []
  },
  {
   "cell_type": "markdown",
   "metadata": {},
   "source": [
    "* from ... import ... as ... を使ってみる．"
   ]
  },
  {
   "cell_type": "code",
   "execution_count": null,
   "metadata": {},
   "outputs": [],
   "source": []
  }
 ],
 "metadata": {
  "colab": {
   "collapsed_sections": [],
   "name": "lec03.ipynb",
   "provenance": [],
   "version": "0.3.2"
  },
  "kernelspec": {
   "display_name": "Python 2",
   "language": "python",
   "name": "python2"
  },
  "language_info": {
   "codemirror_mode": {
    "name": "ipython",
    "version": 2
   },
   "file_extension": ".py",
   "mimetype": "text/x-python",
   "name": "python",
   "nbconvert_exporter": "python",
   "pygments_lexer": "ipython2",
   "version": "2.7.10"
  }
 },
 "nbformat": 4,
 "nbformat_minor": 2
}
