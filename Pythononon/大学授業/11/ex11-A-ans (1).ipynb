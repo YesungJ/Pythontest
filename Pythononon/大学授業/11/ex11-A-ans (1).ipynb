{
 "cells": [
  {
   "cell_type": "markdown",
   "metadata": {},
   "source": [
    "# 2019年6月25日（火曜日）\n",
    "# プログラミング基礎I課題"
   ]
  },
  {
   "cell_type": "markdown",
   "metadata": {},
   "source": [
    "### 注意事項\n",
    "* 次回以降、プログラミング基礎1の講義や演習で新しくノートブックを作成したりアップロードしたりするときは、 \n",
    "左のサイドバーで \"prokiso1-2019\" のフォルダに移動してから行おう。\n",
    "* 左のサイドバーで上位フォルダに移動するには、上部にあるフォルダ名をクリックすれば移動できる。\n",
    "\n",
    "* **その他にも、様々な機能が JupyterLab にはある。その操作を全て講義で説明することはできないが、知っていると便利な機能も沢山あるので、家で自分で調べておこう。**"
   ]
  },
  {
   "cell_type": "markdown",
   "metadata": {},
   "source": [
    "## <span style=\"color:red\">今回の課題の注意</span> \n",
    "<span style=\"color:red\">\n",
    "    間違った処理を実行したり、同じセルを何度も実行している内にリストの中身がおかしくなることがあります。<br>\n",
    "    その時は、\"Restart the Kernel\"（上部の■の右の円矢印）ボタンを押して、課題○-1のセルから実行し直しましょう。\n",
    "</span> \n",
    "\n",
    "## 課題1（リストの作成と参照）\n",
    "\n",
    "### 課題1-1\n",
    "\"SPADE\", \"HEART\", \"CLOVER\", \"DIAMOND\"の四つの要素をもつリストを作成し、表示せよ。  "
   ]
  },
  {
   "cell_type": "code",
   "execution_count": 1,
   "metadata": {},
   "outputs": [
    {
     "name": "stdout",
     "output_type": "stream",
     "text": [
      "['SPADE', 'HEART', 'CLOVER', 'DIAMOND']\n"
     ]
    }
   ],
   "source": [
    "suit = [\"SPADE\", \"HEART\", \"CLOVER\", \"DIAMOND\"]\n",
    "print(suit)"
   ]
  },
  {
   "cell_type": "markdown",
   "metadata": {},
   "source": [
    "### 課題1-2\n",
    "1~13の整数が入ったリストを作成し、表示せよ。"
   ]
  },
  {
   "cell_type": "code",
   "execution_count": 2,
   "metadata": {},
   "outputs": [
    {
     "name": "stdout",
     "output_type": "stream",
     "text": [
      "[1, 2, 3, 4, 5, 6, 7, 8, 9, 10, 11, 12, 13]\n"
     ]
    }
   ],
   "source": [
    "num = list(range(1,14))\n",
    "print(num)"
   ]
  },
  {
   "cell_type": "markdown",
   "metadata": {},
   "source": [
    "### 課題1-3\n",
    "**課題1-1と課題1-2で作成したリストを使用して**、「CLOVERの7」と表示せよ。"
   ]
  },
  {
   "cell_type": "code",
   "execution_count": 3,
   "metadata": {},
   "outputs": [
    {
     "name": "stdout",
     "output_type": "stream",
     "text": [
      "CLOVERの7\n"
     ]
    }
   ],
   "source": [
    "print(f\"{suit[2]}の{num[6]}\")"
   ]
  },
  {
   "cell_type": "markdown",
   "metadata": {},
   "source": [
    "### 課題1-4\n",
    "課題1-2で作成したリストのインデックス番号0番目の要素を\"A\"に変更しせよ。  \n",
    "また、変更したリストを表示し、文字と数字が混在したリストになっていることを確認せよ。"
   ]
  },
  {
   "cell_type": "code",
   "execution_count": 4,
   "metadata": {},
   "outputs": [
    {
     "name": "stdout",
     "output_type": "stream",
     "text": [
      "['A', 2, 3, 4, 5, 6, 7, 8, 9, 10, 11, 12, 13]\n"
     ]
    }
   ],
   "source": [
    "num[0]=\"A\"\n",
    "print(num)"
   ]
  },
  {
   "cell_type": "markdown",
   "metadata": {},
   "source": [
    "## 課題2（要素の削除と追加/挿入）\n",
    "\n",
    "### 課題2-1\n",
    "リスト[\"A\", 2, 3, 4, 5, 6, 7, 8, 9, 10, 11, 12, 13]を変数numに代入し、リストnumを表示せよ。\n",
    "その後、リストnumの末尾の要素を削除し、リストnumを表示せよ。 "
   ]
  },
  {
   "cell_type": "code",
   "execution_count": 5,
   "metadata": {},
   "outputs": [
    {
     "name": "stdout",
     "output_type": "stream",
     "text": [
      "['A', 2, 3, 4, 5, 6, 7, 8, 9, 10, 11, 12, 13]\n",
      "['A', 2, 3, 4, 5, 6, 7, 8, 9, 10, 11, 12]\n"
     ]
    }
   ],
   "source": [
    "num = [\"A\", 2, 3, 4, 5, 6, 7, 8, 9, 10, 11, 12, 13]\n",
    "print(num)\n",
    "num.pop()\n",
    "print(num)"
   ]
  },
  {
   "cell_type": "markdown",
   "metadata": {},
   "source": [
    "### 課題2-2\n",
    "課題2-1のリストの末尾に新しい要素\"K\"を追加し、そのリストを表示せよ。"
   ]
  },
  {
   "cell_type": "code",
   "execution_count": 6,
   "metadata": {},
   "outputs": [
    {
     "name": "stdout",
     "output_type": "stream",
     "text": [
      "['A', 2, 3, 4, 5, 6, 7, 8, 9, 10, 11, 12, 'K']\n"
     ]
    }
   ],
   "source": [
    "num.append(\"K\")\n",
    "print(num)"
   ]
  },
  {
   "cell_type": "markdown",
   "metadata": {},
   "source": [
    "### 課題2-3\n",
    "課題2-2のリストのインデックス番号11番目の要素を削除し、そのリストを表示せよ。  "
   ]
  },
  {
   "cell_type": "code",
   "execution_count": 7,
   "metadata": {},
   "outputs": [
    {
     "name": "stdout",
     "output_type": "stream",
     "text": [
      "['A', 2, 3, 4, 5, 6, 7, 8, 9, 10, 11, 'K']\n"
     ]
    }
   ],
   "source": [
    "num.pop(11)\n",
    "print(num)"
   ]
  },
  {
   "cell_type": "markdown",
   "metadata": {},
   "source": [
    "### 課題2-4\n",
    "insert()を用いて、課題2-3のリストのインデックス番号11番目に新しい要素\"Q\"を追加し、そのリストを表示せよ。\n",
    "その際、追加したい要素が指定したインデックス番号の要素の前に追加されることを確認すること。"
   ]
  },
  {
   "cell_type": "code",
   "execution_count": 8,
   "metadata": {},
   "outputs": [
    {
     "name": "stdout",
     "output_type": "stream",
     "text": [
      "['A', 2, 3, 4, 5, 6, 7, 8, 9, 10, 11, 'Q', 'K']\n"
     ]
    }
   ],
   "source": [
    "num.insert(11,\"Q\")\n",
    "print(num)"
   ]
  },
  {
   "cell_type": "markdown",
   "metadata": {},
   "source": [
    "### 課題2-5\n",
    "課題2-4のリストから数字の11を削除し、そのリストを表示せよ。  "
   ]
  },
  {
   "cell_type": "code",
   "execution_count": 9,
   "metadata": {},
   "outputs": [
    {
     "name": "stdout",
     "output_type": "stream",
     "text": [
      "['A', 2, 3, 4, 5, 6, 7, 8, 9, 10, 'Q', 'K']\n"
     ]
    }
   ],
   "source": [
    "num.remove(11)\n",
    "print(num)"
   ]
  },
  {
   "cell_type": "markdown",
   "metadata": {},
   "source": [
    "### 課題2-6\n",
    "insert()を用いて、課題2-5のリストに新しい要素\"J\"を追加し、表示せよ。\n",
    "ただし、このとき以下の実行結果の通り、追加後のリストの－3番目が\"J\"となるようにせよ。\n",
    "※ 追加したい要素は指定したインデックス番号の要素の前に追加されることを注意すること。  \n",
    "【実行結果】\n",
    ">['A', 2, 3, 4, 5, 6, 7, 8, 9, 10, 'J', 'Q', 'K']"
   ]
  },
  {
   "cell_type": "code",
   "execution_count": 10,
   "metadata": {},
   "outputs": [
    {
     "name": "stdout",
     "output_type": "stream",
     "text": [
      "['A', 2, 3, 4, 5, 6, 7, 8, 9, 10, 'J', 'Q', 'K']\n"
     ]
    }
   ],
   "source": [
    "num.insert(-2,\"J\")\n",
    "print(num)"
   ]
  },
  {
   "cell_type": "markdown",
   "metadata": {},
   "source": [
    "## 課題3（for文とリスト、多次元配列）\n",
    "リストnum=[\"A\", 2, 3, 4, 5, 6, 7, 8, 9, 10, \"J\", \"Q\", \"K\"]内の要素を奇数番目をplayer0、player1に順番に配るプログラムを作成したい。  \n",
    "以下の課題3-1～課題3-3に従い作成せよ。\n",
    "### 課題3-1\n",
    "要素が空のリストp0とp1を作成し、以下の実行結果通りに表示せよ。\n",
    "【実行結果】\n",
    ">player0:  [ ]  \n",
    ">player1:  [ ]"
   ]
  },
  {
   "cell_type": "code",
   "execution_count": 11,
   "metadata": {},
   "outputs": [
    {
     "name": "stdout",
     "output_type": "stream",
     "text": [
      "player0:  []\n",
      "player1:  []\n"
     ]
    }
   ],
   "source": [
    "p0 = []\n",
    "p1=list()\n",
    "print(\"player0: \", p0)\n",
    "print(\"player1: \", p1)"
   ]
  },
  {
   "cell_type": "markdown",
   "metadata": {},
   "source": [
    "### 課題3-2\n",
    "リスト[\"A\", 2, 3, 4, 5, 6, 7, 8, 9, 10, \"J\", \"Q\", \"K\"]を変数numに代入し、リストnumを表示せよ。  \n",
    "その後、for文を用いて、リストnum内の要素をインデックス番号が偶数番目ならばリストp0、奇数番目ならばリストp1のそれぞれの末尾に追加するプログラムを作成し、以下の【実行結果】の様にp0, p1, numを表示せよ。  \n",
    "ただし、リスト内の要素数が変わっても正常に処理できるように、for文の繰返し回数を工夫すること。  \n",
    "【実行結果】\n",
    ">num:  ['A', 2, 3, 4, 5, 6, 7, 8, 9, 10, 'J', 'Q', 'K']  \n",
    ">player0:  [2, 4, 6, 8, 10, 'Q']  \n",
    ">player1:  ['A', 3, 5, 7, 9, 'J', 'K']  \n",
    ">num:  [ ]"
   ]
  },
  {
   "cell_type": "code",
   "execution_count": 12,
   "metadata": {},
   "outputs": [
    {
     "name": "stdout",
     "output_type": "stream",
     "text": [
      "num:  ['A', 2, 3, 4, 5, 6, 7, 8, 9, 10, 'J', 'Q', 'K']\n",
      "player0:  [2, 4, 6, 8, 10, 'Q']\n",
      "player1:  ['A', 3, 5, 7, 9, 'J', 'K']\n",
      "num:  []\n"
     ]
    }
   ],
   "source": [
    "num =[\"A\", 2, 3, 4, 5, 6, 7, 8, 9, 10, \"J\", \"Q\", \"K\"]\n",
    "\n",
    "print(\"num: \",num)\n",
    "for i in range(len(num)):\n",
    "    if i%2 == 1:\n",
    "        p0.append(num.pop(0))\n",
    "    else:\n",
    "        p1.append(num.pop(0))\n",
    "print(\"player0: \", p0)\n",
    "print(\"player1: \", p1)\n",
    "print(\"num: \",num)\n",
    "\n",
    "# # 実行結果の\"num:[]\"を満たさないが、以下でも一応OK\n",
    "# for i in range(len(num)):\n",
    "#     if i%2 == 1:\n",
    "#         p0.append(num[i])\n",
    "#     else:\n",
    "#         p1.append(num[i])\n",
    "# print(\"player0: \", p0)\n",
    "# print(\"player1: \", p1)\n",
    "# print(\"num: \",num)"
   ]
  },
  {
   "cell_type": "markdown",
   "metadata": {},
   "source": [
    "### 課題3-3\n",
    "0番目（p_hands[0]）にp0の全要素、1番目（p_hands[1]）にp1の全要素をもつ2次元リストp_handsを作成せよ。  \n",
    "その後、p_hands0番目の4番目の要素を\"blank\"に変更し、再度p_handsを表示せよ。  \n",
    "【実行結果】  \n",
    ">Befor:  [[2, 4, 6, 8, 10, 'Q'], ['A', 3, 5, 7, 9, 'J', 'K']]  \n",
    ">After:  [[2, 4, 6, 8, 'blank', 'Q'], ['A', 3, 5, 7, 9, 'J', 'K']]"
   ]
  },
  {
   "cell_type": "code",
   "execution_count": 13,
   "metadata": {},
   "outputs": [
    {
     "name": "stdout",
     "output_type": "stream",
     "text": [
      "Befor:  [[2, 4, 6, 8, 10, 'Q'], ['A', 3, 5, 7, 9, 'J', 'K']]\n",
      "After:  [[2, 4, 6, 8, 'blank', 'Q'], ['A', 3, 5, 7, 9, 'J', 'K']]\n"
     ]
    }
   ],
   "source": [
    "p_hands=[p0, p1]\n",
    "print(\"Befor: \",p_hands)\n",
    "p_hands[0][4] = \"blank\"\n",
    "print(\"After: \",p_hands)"
   ]
  },
  {
   "cell_type": "markdown",
   "metadata": {},
   "source": [
    "### 追加課題1（文字列とリスト）\n",
    "長文から単語のみを抜き出したリストを作成したい。  \n",
    "以下の追加課題1-0～課題1-3に従い単語リストを作成せよ。\n",
    "\n",
    "## 追加課題1-0\n",
    "以下のセルではすでに長文を変数textに代入し、textを表示している。  \n",
    "以下のセルに次の処理を新たに追記せよ。\n",
    "* textからカンマ(,)とピリオド(.)を取り除く\n",
    "* 全ての文字を小文字に変換する\n",
    "* textを表示する"
   ]
  },
  {
   "cell_type": "code",
   "execution_count": 14,
   "metadata": {},
   "outputs": [
    {
     "name": "stdout",
     "output_type": "stream",
     "text": [
      "Ever since its foundation in 1986, TUT has set practical education as one of its guiding principles to offer an environment for diverse learning and technical research. With the establishment of the conceptually innovative School of Engineering in April 2015, TUT has evolved into a comprehensive science and technology university spanning the two Hachioji and Kamata campuses with six schools, a graduate school, and research laboratories. \n",
      "\n",
      "ever since its foundation in 1986 tut has set practical education as one of its guiding principles to offer an environment for diverse learning and technical research with the establishment of the conceptually innovative school of engineering in april 2015 tut has evolved into a comprehensive science and technology university spanning the two hachioji and kamata campuses with six schools a graduate school and research laboratories\n"
     ]
    }
   ],
   "source": [
    "text = \"Ever since its foundation in 1986, TUT has set practical education as one of its guiding principles to offer an environment for diverse learning and technical research. With the establishment of the conceptually innovative School of Engineering in April 2015, TUT has evolved into a comprehensive science and technology university spanning the two Hachioji and Kamata campuses with six schools, a graduate school, and research laboratories.\"\n",
    "print(text,\"\\n\")\n",
    "\n",
    "text = text.replace(\",\",\"\")\n",
    "text = text.replace(\".\",\"\")\n",
    "\n",
    "text = text.lower()\n",
    "\n",
    "print(text)"
   ]
  },
  {
   "cell_type": "markdown",
   "metadata": {},
   "source": [
    "## 追加課題1-1\n",
    "追加課題1-0で作成したtextを空白（半角スペース）で分割し、単語リストtext_listを作成後、text_listを表示せよ。"
   ]
  },
  {
   "cell_type": "code",
   "execution_count": 15,
   "metadata": {},
   "outputs": [
    {
     "name": "stdout",
     "output_type": "stream",
     "text": [
      "['ever', 'since', 'its', 'foundation', 'in', '1986', 'tut', 'has', 'set', 'practical', 'education', 'as', 'one', 'of', 'its', 'guiding', 'principles', 'to', 'offer', 'an', 'environment', 'for', 'diverse', 'learning', 'and', 'technical', 'research', 'with', 'the', 'establishment', 'of', 'the', 'conceptually', 'innovative', 'school', 'of', 'engineering', 'in', 'april', '2015', 'tut', 'has', 'evolved', 'into', 'a', 'comprehensive', 'science', 'and', 'technology', 'university', 'spanning', 'the', 'two', 'hachioji', 'and', 'kamata', 'campuses', 'with', 'six', 'schools', 'a', 'graduate', 'school', 'and', 'research', 'laboratories']\n"
     ]
    }
   ],
   "source": [
    "text_list = text.split(\" \")\n",
    "print(text_list)"
   ]
  },
  {
   "cell_type": "markdown",
   "metadata": {},
   "source": [
    "## 追加課題1-2\n",
    "text_listから\"a\"、\"the\"を全て削除し、text_listおよびtext_listの要素数を表示せよ。"
   ]
  },
  {
   "cell_type": "code",
   "execution_count": 16,
   "metadata": {},
   "outputs": [
    {
     "name": "stdout",
     "output_type": "stream",
     "text": [
      "['ever', 'since', 'its', 'foundation', 'in', '1986', 'tut', 'has', 'set', 'practical', 'education', 'as', 'one', 'of', 'its', 'guiding', 'principles', 'to', 'offer', 'an', 'environment', 'for', 'diverse', 'learning', 'and', 'technical', 'research', 'with', 'establishment', 'of', 'conceptually', 'innovative', 'school', 'of', 'engineering', 'in', 'april', '2015', 'tut', 'has', 'evolved', 'into', 'comprehensive', 'science', 'and', 'technology', 'university', 'spanning', 'two', 'hachioji', 'and', 'kamata', 'campuses', 'with', 'six', 'schools', 'graduate', 'school', 'and', 'research', 'laboratories']\n",
      "61\n"
     ]
    }
   ],
   "source": [
    "target = \"a\"\n",
    "while target in text_list:\n",
    "    text_list.remove(target)\n",
    "    \n",
    "target = \"the\"\n",
    "while target in text_list:\n",
    "    text_list.remove(target)\n",
    "\n",
    "print(text_list)\n",
    "print(len(text_list))"
   ]
  },
  {
   "cell_type": "code",
   "execution_count": null,
   "metadata": {},
   "outputs": [],
   "source": []
  }
 ],
 "metadata": {
  "kernelspec": {
   "display_name": "Python 3",
   "language": "python",
   "name": "python3"
  },
  "language_info": {
   "codemirror_mode": {
    "name": "ipython",
    "version": 3
   },
   "file_extension": ".py",
   "mimetype": "text/x-python",
   "name": "python",
   "nbconvert_exporter": "python",
   "pygments_lexer": "ipython3",
   "version": "3.7.1"
  }
 },
 "nbformat": 4,
 "nbformat_minor": 2
}
