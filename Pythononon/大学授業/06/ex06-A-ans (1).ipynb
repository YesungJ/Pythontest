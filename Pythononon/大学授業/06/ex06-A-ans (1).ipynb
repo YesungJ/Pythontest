{
 "cells": [
  {
   "cell_type": "markdown",
   "metadata": {},
   "source": [
    "# 2019年5月21日（火曜日）\n",
    "# プログラミング基礎I課題"
   ]
  },
  {
   "cell_type": "markdown",
   "metadata": {
    "colab_type": "text",
    "id": "Jxr2BBvMumqM"
   },
   "source": [
    "### 注意事項\n",
    "* 次回以降、プログラミング基礎1の講義や演習で新しくノートブックを作成したりアップロードしたりするときは、 \n",
    "左のサイドバーで \"prokiso1-2019\" のフォルダに移動してから行おう。\n",
    "* 左のサイドバーで上位フォルダに移動するには、上部にあるフォルダ名をクリックすれば移動できる。\n",
    "\n",
    "* **その他にも、様々な機能が JupyterLab にはある。その操作を全て講義で説明することはできないが、知っていると便利な機能も沢山あるので、家で自分で調べておこう。**\n",
    "\n"
   ]
  },
  {
   "cell_type": "markdown",
   "metadata": {},
   "source": [
    "## 課題1(大文字小文字の変換)\n",
    "\n",
    "### 課題1-1\n",
    "\n",
    "以下の文を文字列s1に代入し、文字列s1の文字をすべて小文字にせよ。\n",
    "\n",
    ">IoT と Blockchain\n",
    "\n",
    "【実行結果】\n",
    ">iot と blockchain"
   ]
  },
  {
   "cell_type": "code",
   "execution_count": 1,
   "metadata": {},
   "outputs": [
    {
     "name": "stdout",
     "output_type": "stream",
     "text": [
      "iot と blockchain\n"
     ]
    }
   ],
   "source": [
    "s1 = \"IoT と Blockchain\"\n",
    "print(s1.lower())"
   ]
  },
  {
   "cell_type": "markdown",
   "metadata": {},
   "source": [
    "### 課題1-2\n",
    "\n",
    "文字列s1の大文字と小文字を入れ替えよ。\n",
    "\n",
    "【実行結果】\n",
    ">iOt と bLOCKCHAIN"
   ]
  },
  {
   "cell_type": "code",
   "execution_count": 2,
   "metadata": {},
   "outputs": [
    {
     "name": "stdout",
     "output_type": "stream",
     "text": [
      "iOt と bLOCKCHAIN\n"
     ]
    }
   ],
   "source": [
    "print(s1.swapcase())"
   ]
  },
  {
   "cell_type": "markdown",
   "metadata": {},
   "source": [
    "### 課題1-3\n",
    "\n",
    "以下の文を文字列s2に代入し、文字列s2の各単語の1文字目を大文字にし、単語の2文字目以降を小文字にせよ。\n",
    "\n",
    "what is not fully understood is not possessed.\n",
    "\n",
    "【実行結果】\n",
    ">What Is Not Fully Understood Is Not Possessed."
   ]
  },
  {
   "cell_type": "code",
   "execution_count": 3,
   "metadata": {},
   "outputs": [
    {
     "name": "stdout",
     "output_type": "stream",
     "text": [
      "What Is Not Fully Understood Is Not Possessed.\n"
     ]
    }
   ],
   "source": [
    "s2 = \"what is not fully understood is not possessed.\"\n",
    "print(s2.title())"
   ]
  },
  {
   "cell_type": "markdown",
   "metadata": {},
   "source": [
    "## 課題2(文字列の検索、置換、除去)\n",
    "## 課題2-1\n",
    "以下の文を文字列s3に代入する。\n",
    "\n",
    "192-0982, Katakuramachi, Hachioji City, Tokyo/////"
   ]
  },
  {
   "cell_type": "code",
   "execution_count": 4,
   "metadata": {},
   "outputs": [],
   "source": [
    "s3 = \"192-0982, Katakuramachi, Hachioji City, Tokyo/////\""
   ]
  },
  {
   "cell_type": "markdown",
   "metadata": {},
   "source": [
    "### 課題2-2\n",
    "文字列s3に文字「a」が何個含まれてるかを出力せよ。"
   ]
  },
  {
   "cell_type": "code",
   "execution_count": 5,
   "metadata": {},
   "outputs": [
    {
     "name": "stdout",
     "output_type": "stream",
     "text": [
      "5\n"
     ]
    }
   ],
   "source": [
    "print(s3.count(\"a\"))"
   ]
  },
  {
   "cell_type": "markdown",
   "metadata": {},
   "source": [
    "### 課題2-3\n",
    "文字列s3から文字「Tokyo」が最初に出てくるindex値を出力せよ。"
   ]
  },
  {
   "cell_type": "code",
   "execution_count": 6,
   "metadata": {},
   "outputs": [
    {
     "name": "stdout",
     "output_type": "stream",
     "text": [
      "40\n"
     ]
    }
   ],
   "source": [
    "print(s3.find(\"Tokyo\"))"
   ]
  },
  {
   "cell_type": "markdown",
   "metadata": {},
   "source": [
    "### 課題2-4\n",
    "文字列s3から「Tokyo」を「Japan」に置換して出力せよ。"
   ]
  },
  {
   "cell_type": "code",
   "execution_count": 7,
   "metadata": {},
   "outputs": [
    {
     "name": "stdout",
     "output_type": "stream",
     "text": [
      "192-0982, Katakuramachi, Hachioji City, Japan/////\n"
     ]
    }
   ],
   "source": [
    "print(s3.replace(\"Tokyo\", \"Japan\"))"
   ]
  },
  {
   "cell_type": "markdown",
   "metadata": {},
   "source": [
    "### 課題2-5\n",
    "文字列s3から末尾の連続するスラッシュを取り除いて出力せよ。"
   ]
  },
  {
   "cell_type": "code",
   "execution_count": 8,
   "metadata": {},
   "outputs": [
    {
     "name": "stdout",
     "output_type": "stream",
     "text": [
      "192-0982, Katakuramachi, Hachioji City, Tokyo\n"
     ]
    }
   ],
   "source": [
    "print(s3.rstrip(\"/\"))"
   ]
  },
  {
   "cell_type": "markdown",
   "metadata": {},
   "source": [
    "### 課題2-6\n",
    "文字列s3からカンマを取り除いて出力せよ。"
   ]
  },
  {
   "cell_type": "code",
   "execution_count": 9,
   "metadata": {},
   "outputs": [
    {
     "name": "stdout",
     "output_type": "stream",
     "text": [
      "192-0982 Katakuramachi Hachioji City Tokyo/////\n"
     ]
    }
   ],
   "source": [
    "print(s3.replace(\",\",\"\"))"
   ]
  },
  {
   "cell_type": "markdown",
   "metadata": {},
   "source": [
    "### 課題2-7\n",
    "文字列s3から192を抜き出し、int型にして500を加算して出力せよ。"
   ]
  },
  {
   "cell_type": "code",
   "execution_count": 10,
   "metadata": {},
   "outputs": [
    {
     "name": "stdout",
     "output_type": "stream",
     "text": [
      "692\n"
     ]
    }
   ],
   "source": [
    "print(int(s3[:3]) + 500)"
   ]
  },
  {
   "cell_type": "markdown",
   "metadata": {},
   "source": [
    "## 課題3(文字列に値の埋め込み)\n",
    "### 課題3-1\n",
    "自分の学籍番号をid、氏名をname、年齢をageにそれぞれ代入せよ。\n"
   ]
  },
  {
   "cell_type": "code",
   "execution_count": 2,
   "metadata": {},
   "outputs": [],
   "source": [
    "id = 999\n",
    "name = \"koka taro\"\n",
    "age = 18"
   ]
  },
  {
   "cell_type": "markdown",
   "metadata": {},
   "source": [
    "### 課題3-2\n",
    "以下のような実行結果となるよう、f\"{値}\"の書式を使う方法で表示せよ。\n",
    "\n",
    "【実行結果】\n",
    ">学籍番号：999<br>\n",
    ">氏名　　：koka taro<br>\n",
    ">年齢　　：18"
   ]
  },
  {
   "cell_type": "code",
   "execution_count": 4,
   "metadata": {},
   "outputs": [
    {
     "name": "stdout",
     "output_type": "stream",
     "text": [
      "学籍番号：999\n",
      "氏名　　：koka taro\n",
      "年齢　　：18\n"
     ]
    }
   ],
   "source": [
    "text1 = f\"学籍番号：{id}\\n氏名　　：{name}\\n年齢　　：{age}\"\n",
    "print(text1)"
   ]
  },
  {
   "cell_type": "markdown",
   "metadata": {},
   "source": [
    "### 課題3-3\n",
    "以下のような実行結果となるよう、format()を使う方法で表示せよ。\n",
    "\n",
    "【実行結果】\n",
    ">氏名：koka taro、学籍番号：999、年齢：18"
   ]
  },
  {
   "cell_type": "code",
   "execution_count": 19,
   "metadata": {},
   "outputs": [
    {
     "name": "stdout",
     "output_type": "stream",
     "text": [
      "氏名：koka taro、学籍番号：999、年齢：18\n"
     ]
    }
   ],
   "source": [
    "s4 = \"氏名：{}、学籍番号：{}、年齢：{}\"\n",
    "text2 = s4.format(name, id, age)\n",
    "print(text2)"
   ]
  },
  {
   "cell_type": "markdown",
   "metadata": {},
   "source": [
    "## 課題4(値の書式設定)\n",
    "### 課題4-1\n",
    "埼玉県の人口は7,322,645人、面積は3,797.75$km^2$であり、<br>\n",
    "千葉県の人口は6,268,585人、面積は5,157.61$km^2$であり、<br>\n",
    "愛知県の人口は7,539,185人、面積は5,172.96$km^2$である。<br>\n",
    "埼玉県、千葉県、愛知県、それぞれの人口密度[人/$km^2$]を求め、以下のような実行結果となるプログラムを作成せよ。\n",
    "\n",
    "【実行結果】\n",
    ">埼玉の人口密度：1928.1535119478638 <br>\n",
    "千葉の人口密度：1215.4050034802942 <br>\n",
    "愛知の人口密度：1457.4218629179425"
   ]
  },
  {
   "cell_type": "code",
   "execution_count": 11,
   "metadata": {},
   "outputs": [
    {
     "name": "stdout",
     "output_type": "stream",
     "text": [
      "埼玉の人口密度：1928.1535119478638\n",
      "千葉の人口密度：1215.4050034802942\n",
      "愛知の人口密度：1457.4218629179425\n"
     ]
    }
   ],
   "source": [
    "saitama_population = 7322645\n",
    "saitama_area = 3797.75\n",
    "chiba_population = 6268585 \n",
    "chiba_area = 5157.61\n",
    "aichi_population = 7539185\n",
    "aichi_area = 5172.96\n",
    "saitama_population_density = saitama_population / saitama_area\n",
    "chiba_population_density = chiba_population / chiba_area\n",
    "aichi_population_density = aichi_population / aichi_area\n",
    "print(\"埼玉の人口密度：\" + str(saitama_population_density))\n",
    "print(\"千葉の人口密度：\" + str(chiba_population_density))\n",
    "print(\"愛知の人口密度：\" + str(aichi_population_density))"
   ]
  },
  {
   "cell_type": "markdown",
   "metadata": {},
   "source": [
    "### 課題4-2\n",
    "以下のような実行結果となるよう、f\"{値}\"の書式を使う方法で表示せよ。小数点以下2位までを表示する。\n",
    "\n",
    "【実行結果】\n",
    ">埼玉県：1,928.15、愛知県：1,457.42、千葉県：1,215.41\n"
   ]
  },
  {
   "cell_type": "code",
   "execution_count": 23,
   "metadata": {},
   "outputs": [
    {
     "name": "stdout",
     "output_type": "stream",
     "text": [
      "埼玉県：1,928.15、愛知県：1,457.42、千葉県：1,215.41\n"
     ]
    }
   ],
   "source": [
    "text = f\"埼玉県：{saitama_population_density:,.2f}、愛知県：{aichi_population_density:,.2f}、千葉県：{chiba_population_density:,.2f}\"\n",
    "print(text)"
   ]
  },
  {
   "cell_type": "markdown",
   "metadata": {},
   "source": [
    "### 課題4-3\n",
    "以下のような実行結果となるよう、format()を使う方法で表示せよ。小数点以下2位までを表示する。\n",
    "\n",
    "【実行結果】\n",
    ">埼玉県：1,928.15、愛知県：1,457.42、千葉県：1,215.41"
   ]
  },
  {
   "cell_type": "code",
   "execution_count": 13,
   "metadata": {},
   "outputs": [
    {
     "name": "stdout",
     "output_type": "stream",
     "text": [
      "埼玉県：1,928.15、愛知県：1,457.42、千葉県：1,215.41\n"
     ]
    }
   ],
   "source": [
    "s5 = \"埼玉県：{:,.2f}、愛知県：{:,.2f}、千葉県：{:,.2f}\"\n",
    "print(s5.format(saitama_population_density, aichi_population_density,chiba_population_density))"
   ]
  }
 ],
 "metadata": {
  "kernelspec": {
   "display_name": "Python 3",
   "language": "python",
   "name": "python3"
  },
  "language_info": {
   "codemirror_mode": {
    "name": "ipython",
    "version": 3
   },
   "file_extension": ".py",
   "mimetype": "text/x-python",
   "name": "python",
   "nbconvert_exporter": "python",
   "pygments_lexer": "ipython3",
   "version": "3.7.1"
  }
 },
 "nbformat": 4,
 "nbformat_minor": 2
}
