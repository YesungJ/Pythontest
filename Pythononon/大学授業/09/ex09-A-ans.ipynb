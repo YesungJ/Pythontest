{
 "cells": [
  {
   "cell_type": "markdown",
   "metadata": {},
   "source": [
    "# 2019年6月11日（火曜日）\n",
    "# プログラミング基礎I課題"
   ]
  },
  {
   "cell_type": "markdown",
   "metadata": {},
   "source": [
    "### 注意事項\n",
    "* 次回以降、プログラミング基礎1の講義や演習で新しくノートブックを作成したりアップロードしたりするときは、 \n",
    "左のサイドバーで \"prokiso1-2019\" のフォルダに移動してから行おう。\n",
    "* 左のサイドバーで上位フォルダに移動するには、上部にあるフォルダ名をクリックすれば移動できる。\n",
    "\n",
    "* **その他にも、様々な機能が JupyterLab にはある。その操作を全て講義で説明することはできないが、知っていると便利な機能も沢山あるので、家で自分で調べておこう。**\n"
   ]
  },
  {
   "cell_type": "markdown",
   "metadata": {},
   "source": [
    "## 課題1(繰り返しとスキップ)\n",
    "\n",
    "### 課題1-1\n",
    "\n",
    "-10から10までの偶数をカウントアップしながら出力するプログラムをfor文を用いて作成せよ。<br>\n",
    "\n",
    "【実行結果】<br>\n",
    ">-10<br>\n",
    ">-8<br>\n",
    ">-6<br>\n",
    ">-4<br>\n",
    ">-2<br>\n",
    ">0<br>\n",
    ">2<br>\n",
    ">4<br>\n",
    ">6<br>\n",
    ">8<br>\n",
    ">10<br>"
   ]
  },
  {
   "cell_type": "code",
   "execution_count": null,
   "metadata": {},
   "outputs": [],
   "source": [
    "for i in range(-10,11,2):\n",
    "    print(i)"
   ]
  },
  {
   "cell_type": "markdown",
   "metadata": {},
   "source": [
    "### 課題1-2\n",
    "\n",
    "課題1-1のプログラムにおいて、\"0\"のときは\"0\"の<font color=\"Red\">代わりに</font>\"Zero\"と表示するように改良せよ。\n",
    "\n",
    "【実行結果】<br>\n",
    ">-10<br>\n",
    ">-8<br>\n",
    ">-6<br>\n",
    ">-4<br>\n",
    ">-2<br>\n",
    ">Zero<br>\n",
    ">2<br>\n",
    ">4<br>\n",
    ">6<br>\n",
    ">8<br>\n",
    ">10<br>"
   ]
  },
  {
   "cell_type": "code",
   "execution_count": null,
   "metadata": {},
   "outputs": [],
   "source": [
    "for i in range(-10,11,2):\n",
    "    if i == 0:\n",
    "        print(\"Zero\")\n",
    "        continue\n",
    "    print(i)"
   ]
  },
  {
   "cell_type": "markdown",
   "metadata": {},
   "source": [
    "## 課題2(break文とfor-else文)\n",
    "\n",
    "### 課題2\n",
    "\n",
    "キーボードから整数を入力し、1から入力した値まで（入力した値を含む）の総和を表示するプログラムを作成せよ。\n",
    "ただし、総和が300を超えた場合、総和の<font color=\"Red\">代わりに</font>\"総和が300を超えたので処理を停止します。\"と表示するようにせよ。\n",
    "\n",
    "【実行結果1】※赤文字はキーボード入力<br>\n",
    ">入力:  <font color=\"Red\">11</font><br>\n",
    ">66<br>\n",
    "\n",
    "【実行結果2】※赤文字はキーボード入力<br>\n",
    ">入力:  <font color=\"Red\">42</font><br>\n",
    ">総和が300を超えたので処理を停止します。"
   ]
  },
  {
   "cell_type": "code",
   "execution_count": null,
   "metadata": {},
   "outputs": [],
   "source": [
    "MAX_SUM = 300\n",
    "sum_v=0\n",
    "in_v = int(input(\"入力: \"))\n",
    "for i in range(1,in_v+1):\n",
    "    sum_v+=i\n",
    "    if sum_v > MAX_SUM:\n",
    "        print(f\"総和が{MAX_SUM}を超えたので処理を停止します。\")\n",
    "        break;\n",
    "else:\n",
    "    print(sum_v)"
   ]
  },
  {
   "cell_type": "markdown",
   "metadata": {},
   "source": [
    "## 課題3(for文のネスト)\n",
    "\n",
    "### 課題3\n",
    "次の実行結果のような九九の表を出力するプログラムを作成しなさい。<br>\n",
    "※　各段で改行する方法については教科書p49を参照。<br>\n",
    "- ヒント\n",
    " - 出力後、改行せずスペースを入れたい場合: print(\"何かしら出力したい値\",end=\" \")\n",
    " - 出力せず改行だけしたい場合: print(\"\")\n",
    " \n",
    "【実行結果】<br>\n",
    "1 2 3 4 5 6 7 8 9 <br>\n",
    "2 4 6 8 10 12 14 16 18 <br>\n",
    "3 6 9 12 15 18 21 24 27 <br>\n",
    "4 8 12 16 20 24 28 32 36 <br>\n",
    "5 10 15 20 25 30 35 40 45 <br>\n",
    "6 12 18 24 30 36 42 48 54 <br>\n",
    "7 14 21 28 35 42 49 56 63 <br>\n",
    "8 16 24 32 40 48 56 64 72 <br>\n",
    "9 18 27 36 45 54 63 72 81　<br>"
   ]
  },
  {
   "cell_type": "code",
   "execution_count": null,
   "metadata": {},
   "outputs": [],
   "source": [
    "for i in range(1,10):\n",
    "    for j in range(1,10):\n",
    "        print(i*j,end=\" \")\n",
    "    print(\"\")"
   ]
  },
  {
   "cell_type": "markdown",
   "metadata": {},
   "source": [
    "## 追加課題1\n",
    "次の実行結果のように成形された九九の表を出力するプログラムを作成しなさい。<br>\n",
    "※　数値の表示をそろえる方法については、教科書p93参照。<br>\n",
    "【実行結果】\n",
    "<pre>\n",
    "   1   2   3   4   5   6   7   8   9\n",
    "   2   4   6   8  10  12  14  16  18\n",
    "   3   6   9  12  15  18  21  24  27\n",
    "   4   8  12  16  20  24  28  32  36\n",
    "   5  10  15  20  25  30  35  40  45\n",
    "   6  12  18  24  30  36  42  48  54\n",
    "   7  14  21  28  35  42  49  56  63\n",
    "   8  16  24  32  40  48  56  64  72\n",
    "   9  18  27  36  45  54  63  72  81\n",
    "</pre>"
   ]
  },
  {
   "cell_type": "code",
   "execution_count": null,
   "metadata": {},
   "outputs": [],
   "source": [
    "for i in range(1,10):\n",
    "    for j in range(1,10):\n",
    "        print(f\"{i*j:>4}\",end=\"\")\n",
    "    print(\"\")"
   ]
  },
  {
   "cell_type": "markdown",
   "metadata": {},
   "source": [
    "## 追加課題2\n",
    "### 追加課題2-1\n",
    "以下はコンピュータとじゃんけん勝負をするプログラムの一例である。\n",
    "以下を改良してコンピュータとじゃんけん3回勝負するプログラムを作成せよ。\n",
    "【じゃんけんプログラム例】\n",
    "><pre>\n",
    "import random\n",
    "print(\"0~2の整数を入力せよ[0: グー、1:チョキ、 2:パー]\")\n",
    "you = 100\n",
    "while you >= 3:\n",
    "    you = int(input(\"You:\"))\n",
    "cpu = random.randint(0,2)\n",
    "print(\"CPU:\",cpu,end = \" \")\n",
    "if you==cpu:\n",
    "    print(\"Draw!\")\n",
    "elif (you+1)%3==cpu:\n",
    "    print(\"You Win!\")\n",
    "else:\n",
    "    print(\"You Lose!\")\n",
    "</pre>\n",
    "\n",
    "【実行結果例】※赤文字はキーボード入力<br>\n",
    ">0~2の整数を入力せよ[0: グー、1:チョキ、 2:パー]  \n",
    ">You: <font color=\"Red\">1</font>  \n",
    ">CPU: 2 You Win!  \n",
    ">You: <font color=\"Red\">2</font>  \n",
    ">CPU: 1 You Lose!  \n",
    ">You: <font color=\"Red\">0</font>  \n",
    ">CPU: 1 You Win!  \n",
    ">You: <font color=\"Red\">1</font>  \n",
    ">CPU: 2 You Win!  \n",
    ">You: <font color=\"Red\">2</font>  \n",
    ">CPU: 1 You Lose!  "
   ]
  },
  {
   "cell_type": "code",
   "execution_count": null,
   "metadata": {},
   "outputs": [],
   "source": [
    "import random\n",
    "print(\"0~2の整数を入力せよ[0: グー、1:チョキ、 2:パー]\")\n",
    "for i in range(3):\n",
    "    you = 100\n",
    "    while you >= 3:\n",
    "        you = int(input(\"You:\"))\n",
    "    cpu = random.randint(0,2)\n",
    "    print(\"CPU:\",cpu,end = \" \")\n",
    "    if you==cpu:\n",
    "        print(\"Draw!\")\n",
    "    elif (you+1)%3==cpu:\n",
    "        print(\"You Win!\")\n",
    "    else:\n",
    "        print(\"You Lose!\")"
   ]
  },
  {
   "cell_type": "markdown",
   "metadata": {},
   "source": [
    "### 追加課題2-2\n",
    "追加課題2-1を改良し、3回勝負後に勝敗数を表示するようにせよ。\n",
    "【実行結果例】※赤文字はキーボード入力<br>\n",
    ">0~2の整数を入力せよ[0: グー、1:チョキ、 2:パー]  \n",
    ">You: <font color=\"Red\">2</font>  \n",
    ">CPU: 1 You Lose!  \n",
    ">You: <font color=\"Red\">1</font>  \n",
    ">CPU: 1 Draw!  \n",
    ">You: <font color=\"Red\">1</font>  \n",
    ">CPU: 1 Draw!   \n",
    ">0勝、1敗、2引き分け"
   ]
  },
  {
   "cell_type": "code",
   "execution_count": null,
   "metadata": {},
   "outputs": [],
   "source": [
    "import random\n",
    "print(\"0~2の整数を入力せよ[0: グー、1:チョキ、 2:パー]\")\n",
    "cnt_w = 0\n",
    "cnt_l = 0\n",
    "cnt_d = 0\n",
    "for i in range(3):\n",
    "    you = 100\n",
    "    while you >= 3:\n",
    "        you = int(input(\"You:\"))\n",
    "    cpu = random.randint(0,2)\n",
    "    print(\"CPU:\",cpu,end = \" \")\n",
    "    if you==cpu:\n",
    "        cnt_d+=1\n",
    "        print(\"Draw!\")\n",
    "    elif (you+1)%3==cpu:\n",
    "        cnt_w+=1\n",
    "        print(\"You Win!\")\n",
    "    else:\n",
    "        cnt_l+=1\n",
    "        print(\"You Lose!\")\n",
    "print(f\"{cnt_w}勝、{cnt_l}敗、{cnt_d}引き分け\")"
   ]
  },
  {
   "cell_type": "markdown",
   "metadata": {},
   "source": [
    "### 追加課題2-3\n",
    "追加課題2-1,2-2を参考に、CPU1~CPU _n_の*n*体のコンピュータとじゃんけん勝負するゲームをプログラムせよ。ゲームの仕様は以下の通り。  \n",
    "- プレイヤーは各CPUと最大3回のじゃんけん勝負する\n",
    "- 3回中1回でも勝てばその時点で次のCPUとの勝負に移行する。\n",
    "- CPU1~CPU*n*に1回ずつ勝利するとゲームクリアとする。  \n",
    "\n",
    "なお今回は*n=2*を代入して作成せよ。<br>\n",
    "【実行結果例1】※赤文字はキーボード入力<br>\n",
    ">0~2の整数を入力せよ[0: グー、1:チョキ、 2:パー]  \n",
    ">CPU1と1試合目 You: <font color=\"Red\">1</font>   \n",
    ">CPU: 2 You Win!  \n",
    ">CPU2と1試合目 You: <font color=\"Red\">2</font>   \n",
    ">CPU: 1 You Lose!  \n",
    ">CPU2と2試合目 You: <font color=\"Red\">0</font>   \n",
    ">CPU: 2 You Lose!  \n",
    ">CPU2と3試合目 You: <font color=\"Red\">1</font>   \n",
    ">CPU: 1 Draw!  \n",
    ">ゲームオーバー  \n",
    "\n",
    "【実行結果例2】※赤文字はキーボード入力<br>\n",
    ">0~2の整数を入力せよ[0: グー、1:チョキ、 2:パー]  \n",
    ">CPU1と1試合目 You: <font color=\"Red\">1</font>   \n",
    ">CPU: 2 You Win!  \n",
    ">CPU2と1試合目 You: <font color=\"Red\">2</font>   \n",
    ">CPU: 2 Draw!  \n",
    ">CPU2と2試合目 You: <font color=\"Red\">1</font>   \n",
    ">CPU: 2 You Win!  \n",
    ">ゲームクリア  "
   ]
  },
  {
   "cell_type": "code",
   "execution_count": null,
   "metadata": {},
   "outputs": [],
   "source": [
    "import random\n",
    "n = 2\n",
    "\n",
    "print(\"0~2の整数を入力せよ[0: グー、1:チョキ、 2:パー]\")\n",
    "for i in range(n):\n",
    "    flg_go = False # game over フラグ\n",
    "    for j in range(3):\n",
    "        you = 100\n",
    "        while you >= 3:\n",
    "            you = int(input(f\"CPU{i+1}と{j+1}試合目 You:\"))\n",
    "        cpu = random.randint(0,2)\n",
    "        print(\"CPU:\",cpu,end = \" \")\n",
    "        if you==cpu:\n",
    "            print(\"Draw!\")\n",
    "        elif (you+1)%3==cpu:\n",
    "            print(\"You Win!\")\n",
    "            break\n",
    "        else:\n",
    "            print(\"You Lose!\")\n",
    "    else:\n",
    "        flg_go = True\n",
    "    if flg_go == True:\n",
    "        print(\"ゲームオーバー\")\n",
    "        break\n",
    "else:\n",
    "    print(\"ゲームクリア\")"
   ]
  }
 ],
 "metadata": {
  "kernelspec": {
   "display_name": "Python 3",
   "language": "python",
   "name": "python3"
  },
  "language_info": {
   "codemirror_mode": {
    "name": "ipython",
    "version": 3
   },
   "file_extension": ".py",
   "mimetype": "text/x-python",
   "name": "python",
   "nbconvert_exporter": "python",
   "pygments_lexer": "ipython3",
   "version": "3.7.1"
  }
 },
 "nbformat": 4,
 "nbformat_minor": 2
}
