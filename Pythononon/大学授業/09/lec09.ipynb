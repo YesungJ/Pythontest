{
 "cells": [
  {
   "cell_type": "markdown",
   "metadata": {
    "colab_type": "text",
    "id": "53OtdG5HwhD4"
   },
   "source": [
    "## 第9回 講義用ノートブック (P.121-131)\n",
    "### Chapter 5 条件分岐，繰り返し，例外処理\n",
    "### Section 5-3.  for文／処理を繰り返す(P.121)"
   ]
  },
  {
   "cell_type": "markdown",
   "metadata": {
    "colab_type": "text",
    "id": "rg2CAhqtpjfy"
   },
   "source": [
    "* 指定回数を繰り返す for in"
   ]
  },
  {
   "cell_type": "code",
   "execution_count": 1,
   "metadata": {
    "colab": {},
    "colab_type": "code",
    "id": "wJhDA-bvr4ls"
   },
   "outputs": [],
   "source": [
    "colors = [\"blue\", \"pink\", \"green\", \"red\"] # 続きを書いて実行しましょう"
   ]
  },
  {
   "cell_type": "markdown",
   "metadata": {
    "colab_type": "text",
    "id": "A0WnV83qr4-p"
   },
   "source": [
    "* n回繰り返すfor文\n",
    "    * for i in range(n):"
   ]
  },
  {
   "cell_type": "code",
   "execution_count": null,
   "metadata": {
    "colab": {},
    "colab_type": "code",
    "id": "YuePHL3sr5J6"
   },
   "outputs": [],
   "source": []
  },
  {
   "cell_type": "markdown",
   "metadata": {
    "colab_type": "text",
    "id": "bm5QHdcbr5RH"
   },
   "source": [
    "* range(開始値， 終了値, ステップ)\n",
    "    * 開始値 = 5， 終了値 = 10 にして実行してみよう"
   ]
  },
  {
   "cell_type": "code",
   "execution_count": null,
   "metadata": {
    "colab": {},
    "colab_type": "code",
    "id": "qgHqPvt6r5ZC"
   },
   "outputs": [],
   "source": []
  },
  {
   "cell_type": "markdown",
   "metadata": {
    "colab_type": "text",
    "id": "DJh4KzfLtOrE"
   },
   "source": [
    "* for文のネスティング（入れ子状， ２重ループ, 多重ループ)\n"
   ]
  },
  {
   "cell_type": "code",
   "execution_count": null,
   "metadata": {
    "colab": {},
    "colab_type": "code",
    "id": "KPV_-Jcmr5oq"
   },
   "outputs": [],
   "source": []
  },
  {
   "cell_type": "markdown",
   "metadata": {
    "colab_type": "text",
    "id": "zMhINUJor5uq"
   },
   "source": [
    "* 4行3列の点の座標を２重ループで表示"
   ]
  },
  {
   "cell_type": "code",
   "execution_count": null,
   "metadata": {
    "colab": {},
    "colab_type": "code",
    "id": "5bminbXzr51V"
   },
   "outputs": [],
   "source": []
  },
  {
   "cell_type": "markdown",
   "metadata": {
    "colab_type": "text",
    "id": "AAwH1DmGr57e"
   },
   "source": [
    "#### 繰り返しを中断して終了する break(P.125)\n",
    "* isinstance(num, (int, float)) # numに入っている値が，int型もしくはfloat型の場合はTrue．それ以外はFalse"
   ]
  },
  {
   "cell_type": "code",
   "execution_count": 10,
   "metadata": {
    "colab": {},
    "colab_type": "code",
    "id": "Jqx_nz3Ar6CW"
   },
   "outputs": [
    {
     "name": "stdout",
     "output_type": "stream",
     "text": [
      "num =  True\n",
      "<class 'int'>\n",
      "hoge =  False\n",
      "<class 'str'>\n"
     ]
    }
   ],
   "source": [
    "num = 10\n",
    "print(\"num = \", isinstance(num, (int, float)))\n",
    "print(type(num))\n",
    "num = \"hoge\"\n",
    "print(\"hoge = \", isinstance(num, (int, float)))\n",
    "print(type(num))"
   ]
  },
  {
   "cell_type": "markdown",
   "metadata": {
    "colab_type": "text",
    "id": "cE0D_YDXr6Is"
   },
   "source": [
    "* P. 125のコードを打ち込んで実行してみよう"
   ]
  },
  {
   "cell_type": "code",
   "execution_count": null,
   "metadata": {
    "colab": {},
    "colab_type": "code",
    "id": "KGDrpcI_r6N8"
   },
   "outputs": [],
   "source": [
    "numlist = [3, 4.2, 10, \"x\", 1, 9] # 評価するリスト\n",
    "sum = 0 # 合計を計算する変数は必ず0で初期化しよう\n"
   ]
  },
  {
   "cell_type": "markdown",
   "metadata": {
    "colab_type": "text",
    "id": "hGPss0pIr6TO"
   },
   "source": [
    "* ネスティングしている内側のfor文でbreakを実行\n",
    "    * 際隣接ループをbreak"
   ]
  },
  {
   "cell_type": "code",
   "execution_count": null,
   "metadata": {
    "colab": {},
    "colab_type": "code",
    "id": "S1Fx0yoZr6YU"
   },
   "outputs": [],
   "source": []
  },
  {
   "cell_type": "markdown",
   "metadata": {
    "colab_type": "text",
    "id": "Q-SUGgAGr6m5"
   },
   "source": [
    "#### 繰り返しをスキップする continue(P.127)\n",
    "* continue文\n",
    "* P. 128のコードを入力して実行してみよう"
   ]
  },
  {
   "cell_type": "code",
   "execution_count": null,
   "metadata": {
    "colab": {},
    "colab_type": "code",
    "id": "xrtFQRgPr6sC"
   },
   "outputs": [],
   "source": [
    "numlist = [3, 4.2, 10, \"x\", 1, 9]\n",
    "sum = 0\n"
   ]
  },
  {
   "cell_type": "markdown",
   "metadata": {
    "colab_type": "text",
    "id": "q4k1ke18r6wl"
   },
   "source": [
    "* ネスティングしている内側のfor文でcontineを実行\n",
    "    * P. 129のコードを入力して実行してみよう"
   ]
  },
  {
   "cell_type": "code",
   "execution_count": null,
   "metadata": {
    "colab": {},
    "colab_type": "code",
    "id": "l1F4twe3r612"
   },
   "outputs": [],
   "source": []
  },
  {
   "cell_type": "markdown",
   "metadata": {
    "colab_type": "text",
    "id": "r4Lv_wjRu2Hl"
   },
   "source": [
    "#### 繰り返した後で実行する for in 〜 else(P.130)\n",
    "* else ブロックがあるfor文"
   ]
  },
  {
   "cell_type": "code",
   "execution_count": null,
   "metadata": {
    "colab": {},
    "colab_type": "code",
    "id": "iGJxAA0ru2Mr"
   },
   "outputs": [],
   "source": [
    "numlist = [3, 4.2, 10, \"x\", 1, 9]\n",
    "sum = 0\n"
   ]
  }
 ],
 "metadata": {
  "colab": {
   "collapsed_sections": [],
   "name": "lec06.ipynb",
   "provenance": [],
   "version": "0.3.2"
  },
  "kernelspec": {
   "display_name": "Python 3",
   "language": "python",
   "name": "python3"
  },
  "language_info": {
   "codemirror_mode": {
    "name": "ipython",
    "version": 3
   },
   "file_extension": ".py",
   "mimetype": "text/x-python",
   "name": "python",
   "nbconvert_exporter": "python",
   "pygments_lexer": "ipython3",
   "version": "3.7.3"
  }
 },
 "nbformat": 4,
 "nbformat_minor": 2
}
