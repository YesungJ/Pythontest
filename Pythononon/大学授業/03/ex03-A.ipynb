{
 "cells": [
  {
   "cell_type": "markdown",
   "metadata": {
    "colab_type": "text",
    "id": "EqgDyWj4fXmV"
   },
   "source": [
    "# 2019年4月23日（火曜日）\n",
    "# プログラミングI課題"
   ]
  },
  {
   "cell_type": "markdown",
   "metadata": {
    "colab_type": "text",
    "id": "Jxr2BBvMumqM"
   },
   "source": [
    "### 注意事項\n",
    "* 次回以降，プログラミング基礎1の講義や演習で新しくノートブックを作成したりアップロードしたりするときは， \n",
    "左のサイドバーで \"prokiso1-2019\" のフォルダに移動してから行おう．\n",
    "* 左のサイドバーで上位フォルダに移動するには，上部にあるフォルダ名をクリックすれば移動できる．\n",
    "\n",
    "* **その他にも，様々な機能が JupyterLab にはある．その操作を全て講義で説明することはできないが，知っていると便利な機能も沢山あるので，家で自分で調べておこう．**\n",
    "\n"
   ]
  },
  {
   "cell_type": "markdown",
   "metadata": {
    "colab_type": "text",
    "id": "uN54cDHLfXmY"
   },
   "source": [
    "## 課題1\n",
    "変数s = \"The first step is always the hardest.\"とする．以下の問いに答えよ．\n",
    "\n",
    "### 課題1-1\n",
    "変数sから\"step\"を抜き出して表示せよ．"
   ]
  },
  {
   "cell_type": "code",
   "execution_count": null,
   "metadata": {
    "colab": {},
    "colab_type": "code",
    "id": "Xgc_MNbpfXma"
   },
   "outputs": [],
   "source": []
  },
  {
   "cell_type": "markdown",
   "metadata": {},
   "source": [
    "### 課題1-2\n",
    "\n",
    "変数sの4文字目から20文字抜き出して表示せよ．"
   ]
  },
  {
   "cell_type": "code",
   "execution_count": null,
   "metadata": {},
   "outputs": [],
   "source": []
  },
  {
   "cell_type": "markdown",
   "metadata": {
    "colab_type": "text",
    "id": "NFFHpnvCfs1T"
   },
   "source": [
    "## 課題2\n",
    "変数a = 10, 変数b = 20, 変数c = 30とする．以下の問いに答えよ．\n",
    "\n",
    "### 課題2-1\n",
    "比較演算子を用いて，各変数が18より大きいかをTrueまたはFalseで表示せよ．"
   ]
  },
  {
   "cell_type": "code",
   "execution_count": null,
   "metadata": {},
   "outputs": [],
   "source": []
  },
  {
   "cell_type": "markdown",
   "metadata": {},
   "source": [
    "### 課題2-2\n",
    "論理演算子を用いて，変数cは変数a,bより大きいかをTrueまたはFalseで表示せよ．（ヒント：教科書P.64）"
   ]
  },
  {
   "cell_type": "code",
   "execution_count": null,
   "metadata": {},
   "outputs": [],
   "source": []
  },
  {
   "cell_type": "markdown",
   "metadata": {
    "colab_type": "text",
    "id": "Ye8v1LjqgEuF"
   },
   "source": [
    "## 課題3\n",
    "半径10メートルの円の面積を求めるプログラムを作成せよ．\n",
    "\n",
    "ただし，変数pi = 3.14159とし，以下の実行結果を表示させること．その際，文字列と数値を連結し，変数ansに代入後，print(ans)で表示すること．（ヒント：教科書P.67）\n",
    "なお，円の面積を求める公式は$\\pi r^2$である．\n",
    "\n",
    "【実行結果】\n",
    "\n",
    "半径10メートルの円の面積は314.159平方メートルである"
   ]
  },
  {
   "cell_type": "code",
   "execution_count": null,
   "metadata": {
    "colab": {},
    "colab_type": "code",
    "id": "GEoPHfDBgISx"
   },
   "outputs": [],
   "source": []
  },
  {
   "cell_type": "markdown",
   "metadata": {
    "colab_type": "text",
    "id": "trd4x8sTg7c9"
   },
   "source": [
    "## 課題4\n",
    "変数who = \"トム\"，変数animal = \"猫\"，変数where = \"部屋の中\"，変数do = \"遊ぶ\"　とする．\n",
    "\n",
    "変数textに文字列を連結させ，以下の実行結果を表示させよ．ただし，表示方法はprint(text)とする．（ヒント：教科書P.72）\n",
    "\n",
    "【実行結果】\n",
    "\n",
    "トムは部屋の中で猫と遊ぶ"
   ]
  },
  {
   "cell_type": "code",
   "execution_count": null,
   "metadata": {},
   "outputs": [],
   "source": []
  },
  {
   "cell_type": "markdown",
   "metadata": {},
   "source": [
    "## 課題5\n",
    "円ドルの為替レートを変数rateに入れ，変数yenに日本円を入れると，ドルが表示されるプログラムを作成せよ．\n",
    "\n",
    "例えば，rate = 112，yen = 200とすると次のような実行結果を出力するように作成すること．\n",
    "ただし，端数は切り捨てとする\n",
    "\n",
    "【実行結果】\n",
    "\n",
    "200 円 =  1 ドル 78 セント"
   ]
  },
  {
   "cell_type": "code",
   "execution_count": null,
   "metadata": {},
   "outputs": [],
   "source": []
  }
 ],
 "metadata": {
  "colab": {
   "collapsed_sections": [],
   "name": "ex01-A.ipynb",
   "provenance": [],
   "toc_visible": true,
   "version": "0.3.2"
  },
  "kernelspec": {
   "display_name": "Python 3",
   "language": "python",
   "name": "python3"
  },
  "language_info": {
   "codemirror_mode": {
    "name": "ipython",
    "version": 3
   },
   "file_extension": ".py",
   "mimetype": "text/x-python",
   "name": "python",
   "nbconvert_exporter": "python",
   "pygments_lexer": "ipython3",
   "version": "3.7.3"
  }
 },
 "nbformat": 4,
 "nbformat_minor": 2
}
