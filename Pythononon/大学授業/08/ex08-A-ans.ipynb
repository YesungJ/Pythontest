{
 "cells": [
  {
   "cell_type": "markdown",
   "metadata": {},
   "source": [
    "# 2019年6月4日（火曜日）\n",
    "# プログラミング基礎I課題"
   ]
  },
  {
   "cell_type": "markdown",
   "metadata": {
    "colab_type": "text",
    "id": "Jxr2BBvMumqM"
   },
   "source": [
    "### 注意事項\n",
    "* 次回以降、プログラミング基礎1の講義や演習で新しくノートブックを作成したりアップロードしたりするときは、 \n",
    "左のサイドバーで \"prokiso1-2019\" のフォルダに移動してから行おう。\n",
    "* 左のサイドバーで上位フォルダに移動するには、上部にあるフォルダ名をクリックすれば移動できる。\n",
    "\n",
    "* **その他にも、様々な機能が JupyterLab にはある。その操作を全て講義で説明することはできないが、知っていると便利な機能も沢山あるので、家で自分で調べておこう。**\n",
    "\n"
   ]
  },
  {
   "cell_type": "markdown",
   "metadata": {},
   "source": [
    "## 課題1\n",
    "### 課題1-1\n",
    "0から10まで1ずつカウントアップしながら出力するプログラムを、while文を用いて作成せよ。\n",
    "\n",
    "【実行結果】\n",
    ">0 <br>\n",
    ">1 <br>\n",
    ">2 <br>\n",
    ">3 <br>\n",
    ">4 <br>\n",
    ">5 <br>\n",
    ">6 <br>\n",
    ">7 <br>\n",
    ">8 <br>\n",
    ">9 <br>\n",
    ">10"
   ]
  },
  {
   "cell_type": "code",
   "execution_count": 1,
   "metadata": {},
   "outputs": [
    {
     "name": "stdout",
     "output_type": "stream",
     "text": [
      "0\n",
      "1\n",
      "2\n",
      "3\n",
      "4\n",
      "5\n",
      "6\n",
      "7\n",
      "8\n",
      "9\n",
      "10\n"
     ]
    }
   ],
   "source": [
    "count = 0\n",
    "while count<=10 :\n",
    "    print(count)\n",
    "    count += 1"
   ]
  },
  {
   "cell_type": "markdown",
   "metadata": {},
   "source": [
    "### 課題1-2\n",
    "0から10まで1ずつカウントアップしながら出力するプログラムを、while文を用いて作成せよ。 <br>\n",
    "ただし、7のときは「seven」と出力せよ。\n",
    "\n",
    "【実行結果】\n",
    ">0 <br>\n",
    ">1 <br>\n",
    ">2 <br>\n",
    ">3 <br>\n",
    ">4 <br>\n",
    ">5 <br>\n",
    ">6 <br>\n",
    ">seven <br>\n",
    ">8 <br>\n",
    ">9 <br>\n",
    ">10"
   ]
  },
  {
   "cell_type": "code",
   "execution_count": 1,
   "metadata": {},
   "outputs": [
    {
     "name": "stdout",
     "output_type": "stream",
     "text": [
      "0\n",
      "1\n",
      "2\n",
      "3\n",
      "4\n",
      "5\n",
      "6\n",
      "seven\n",
      "8\n",
      "9\n",
      "10\n"
     ]
    }
   ],
   "source": [
    "count = 0\n",
    "while count<=10 :\n",
    "    if count == 7 :\n",
    "        count = 'seven'\n",
    "        print(count)\n",
    "        count = 7\n",
    "    else :\n",
    "        print(count)\n",
    "    count += 1"
   ]
  },
  {
   "cell_type": "markdown",
   "metadata": {},
   "source": [
    "### 課題1-3\n",
    "1から12までの積（12の階乗）を求めるプログラムをwhile文を用いて作成せよ。\n",
    "\n",
    "【実行結果】\n",
    ">12の階乗は479001600"
   ]
  },
  {
   "cell_type": "code",
   "execution_count": 6,
   "metadata": {},
   "outputs": [
    {
     "name": "stdout",
     "output_type": "stream",
     "text": [
      "12の階乗は479001600\n"
     ]
    }
   ],
   "source": [
    "count = 1\n",
    "val = count\n",
    "while count<=12 :\n",
    "    val *= count\n",
    "    count += 1\n",
    "print(\"12の階乗は\"+str(val))"
   ]
  },
  {
   "cell_type": "markdown",
   "metadata": {},
   "source": [
    "## 課題2\n",
    "### 課題2-1\n",
    "10から0まで1ずつカウントダウンしながら出力するプログラムを、while文を用いて作成せよ。 <br>\n",
    "ただし、4のときに処理を終了するようにせよ。\n",
    "\n",
    "【実行結果】\n",
    ">10 <br>\n",
    ">9 <br>\n",
    ">8 <br>\n",
    ">7 <br>\n",
    ">6 <br>\n",
    ">5 <br>\n",
    ">4"
   ]
  },
  {
   "cell_type": "code",
   "execution_count": 7,
   "metadata": {},
   "outputs": [
    {
     "name": "stdout",
     "output_type": "stream",
     "text": [
      "10\n",
      "9\n",
      "8\n",
      "7\n",
      "6\n",
      "5\n",
      "4\n"
     ]
    }
   ],
   "source": [
    "count = 10\n",
    "while count>=0 :\n",
    "    print(count)\n",
    "    if count == 4 :\n",
    "        break\n",
    "    count -= 1"
   ]
  },
  {
   "cell_type": "markdown",
   "metadata": {},
   "source": [
    "### 課題2-2\n",
    "10から0まで1ずつカウントダウンしながら出力するプログラムを、while文を用いて作成せよ。 <br>\n",
    "ただし、4は出力しないようにせよ。\n",
    "\n",
    "【実行結果】\n",
    ">10 <br>\n",
    ">9 <br>\n",
    ">8 <br>\n",
    ">7 <br>\n",
    ">6 <br>\n",
    ">5 <br>\n",
    ">3 <br>\n",
    ">2 <br>\n",
    ">1 <br>\n",
    ">0"
   ]
  },
  {
   "cell_type": "code",
   "execution_count": 8,
   "metadata": {},
   "outputs": [
    {
     "name": "stdout",
     "output_type": "stream",
     "text": [
      "10\n",
      "9\n",
      "8\n",
      "7\n",
      "6\n",
      "5\n",
      "3\n",
      "2\n",
      "1\n",
      "0\n"
     ]
    }
   ],
   "source": [
    "count = 10\n",
    "while count>=0 :\n",
    "    if count == 4 :\n",
    "        count -=1\n",
    "        continue\n",
    "    print(count)\n",
    "    count -= 1"
   ]
  },
  {
   "cell_type": "markdown",
   "metadata": {},
   "source": [
    "## 課題3\n",
    "sum = 1 + 2 + 3 + ... + n とする。 <br>\n",
    "sumが250よりも大きくなったときのnとsumの値を表示し、 <br>\n",
    "以下の出力結果がでるように作成せよ。 <br>\n",
    "（数値の表示は3桁右詰） <br>\n",
    "ただし、if文は用いないこと。\n",
    "\n",
    "【実行結果】\n",
    ">`n：　1，sum：　1`<br>\n",
    ">`n：　2，sum：　3`<br>\n",
    ">`n：　3，sum：　6` <br>\n",
    ">`n：　4，sum： 10` <br>\n",
    ">`n：　5，sum： 15` <br>\n",
    ">`n：　6，sum： 21` <br>\n",
    ">`n：　7，sum： 28` <br>\n",
    ">`n：　8，sum： 36` <br>\n",
    ">`n：　9，sum： 45` <br>\n",
    ">`n： 10，sum： 55` <br>\n",
    ">`n： 11，sum： 66` <br>\n",
    ">`n： 12，sum： 78` <br>\n",
    ">`n： 13，sum： 91` <br>\n",
    ">`n： 14，sum：105` <br>\n",
    ">`n： 15，sum：120`<br>\n",
    ">`n： 16，sum：136` <br>\n",
    ">`n： 17，sum：153` <br>\n",
    ">`n： 18，sum：171` <br>\n",
    ">`n： 19，sum：190` <br>\n",
    ">`n： 20，sum：210` <br>\n",
    ">`n： 21，sum：231` <br>\n",
    ">`n： 22，sum：253` <br>\n",
    ">`====================` <br>\n",
    ">`sumが250よりも大きくなったときの、nの値は22。`"
   ]
  },
  {
   "cell_type": "code",
   "execution_count": 9,
   "metadata": {},
   "outputs": [
    {
     "name": "stdout",
     "output_type": "stream",
     "text": [
      "n：  1，sum：  1\n",
      "n：  2，sum：  3\n",
      "n：  3，sum：  6\n",
      "n：  4，sum： 10\n",
      "n：  5，sum： 15\n",
      "n：  6，sum： 21\n",
      "n：  7，sum： 28\n",
      "n：  8，sum： 36\n",
      "n：  9，sum： 45\n",
      "n： 10，sum： 55\n",
      "n： 11，sum： 66\n",
      "n： 12，sum： 78\n",
      "n： 13，sum： 91\n",
      "n： 14，sum：105\n",
      "n： 15，sum：120\n",
      "n： 16，sum：136\n",
      "n： 17，sum：153\n",
      "n： 18，sum：171\n",
      "n： 19，sum：190\n",
      "n： 20，sum：210\n",
      "n： 21，sum：231\n",
      "n： 22，sum：253\n",
      "====================\n",
      "sumが250よりも大きくなったときの、nの値は22。\n"
     ]
    }
   ],
   "source": [
    "sum = 0\n",
    "n = 0\n",
    "while sum <= 250 :\n",
    "    n += 1\n",
    "    sum += n\n",
    "    print(f\"n：{n:>3}，sum：{sum:>3}\")\n",
    "print(\"=\" * 20)\n",
    "print(f\"sumが250よりも大きくなったときの、nの値は{n}。\")"
   ]
  },
  {
   "cell_type": "markdown",
   "metadata": {},
   "source": [
    "## 課題4\n",
    "-30から90の乱数を空のリストに5つ追加したい。 <br>\n",
    "whileループ内で、リストに値を追加するとき、 <br>\n",
    "マイナスの値が出た場合には「中断されました。」と表示し、処理を終了し、 <br>\n",
    "プラスの値が5つ追加された場合には「正常に終了しました。」と表示し、リストを出力するプログラムを作成せよ。\n",
    "\n",
    "【実行結果の例1】 <br>\n",
    ">正常に終了しました。 <br>\n",
    ">[52, 57, 5, 81, 3] <br>\n",
    "\n",
    "【実行結果の例2】 <br>\n",
    ">中断されました。"
   ]
  },
  {
   "cell_type": "code",
   "execution_count": 12,
   "metadata": {},
   "outputs": [
    {
     "name": "stdout",
     "output_type": "stream",
     "text": [
      "正常に終了しました。\n",
      "[86, 21, 87, 44, 11]\n"
     ]
    }
   ],
   "source": [
    "from random import randint \n",
    "numbers = []\n",
    "while len(numbers)<5 :\n",
    "    n = randint(-30, 90)\n",
    "    if n < 0 :\n",
    "        print(\"中断されました。\")\n",
    "        break\n",
    "    \n",
    "    numbers.append(n)\n",
    "    \n",
    "else :\n",
    "    print(\"正常に終了しました。\")\n",
    "    print(numbers)"
   ]
  },
  {
   "cell_type": "markdown",
   "metadata": {},
   "source": [
    "## 追加課題1\n",
    "3つのサイコロが同じ目になるまで、サイコロを振ってみましょう。ただし、サイコロは1～6の目がでるものとする。<br>\n",
    "以下のような実行結果がでるように作成せよ。\n",
    "\n",
    "【実行結果の例】\n",
    ">45回目で、1の目が揃いました。"
   ]
  },
  {
   "cell_type": "code",
   "execution_count": 3,
   "metadata": {},
   "outputs": [
    {
     "name": "stdout",
     "output_type": "stream",
     "text": [
      "45回目で、1の目が揃いました。\n"
     ]
    }
   ],
   "source": [
    "from random import randint\n",
    "count = 0\n",
    "while True:\n",
    "    count += 1\n",
    "    a = randint(1, 6)\n",
    "    b = randint(1, 6)\n",
    "    c = randint(1, 6)\n",
    "    if a == b == c:\n",
    "            break\n",
    "print(f\"{count}回目で、{a}の目が揃いました。\")"
   ]
  },
  {
   "cell_type": "markdown",
   "metadata": {},
   "source": [
    "## 追加課題2\n",
    "変数numに1から10までの乱数を代入し、キーボードからの入力（p.77参照）で、変数numの値を当てたら終了するプログラムを、以下の実行結果の例を参考に作成せよ。\n",
    "\n",
    "【実行結果の例】\n",
    "\n",
    ">1から10の数を当ててください。 6 <br>\n",
    ">1から10の数を当ててください。 4 <br>\n",
    ">1から10の数を当ててください。 2 <br>\n",
    ">1から10の数を当ててください。 3 <br>\n",
    ">1から10の数を当ててください。 8 <br>\n",
    ">1から10の数を当ててください。 9 <br>\n",
    ">1から10の数を当ててください。 10 <br>\n",
    ">==================== <br>\n",
    ">7回目で正解の数「10」を当てました。"
   ]
  },
  {
   "cell_type": "code",
   "execution_count": 48,
   "metadata": {},
   "outputs": [
    {
     "name": "stdin",
     "output_type": "stream",
     "text": [
      "1から10の数を当ててください。 1\n",
      "1から10の数を当ててください。 2\n",
      "1から10の数を当ててください。 3\n",
      "1から10の数を当ててください。 4\n",
      "1から10の数を当ててください。 5\n",
      "1から10の数を当ててください。 6\n",
      "1から10の数を当ててください。 7\n",
      "1から10の数を当ててください。 8\n"
     ]
    },
    {
     "name": "stdout",
     "output_type": "stream",
     "text": [
      "====================\n",
      "8回目で正解の数「8」を当てました。\n"
     ]
    }
   ],
   "source": [
    "from random import randint\n",
    "num = randint(1, 10)\n",
    "count = 0\n",
    "while True:\n",
    "    count += 1\n",
    "    question = f\"1から10の数を当ててください。\"\n",
    "    value = input(question)\n",
    "    if int(value) == num :\n",
    "        break\n",
    "print(\"=\"*20)        \n",
    "print(f\"{count}回目で正解の数「{num}」を当てました。\")"
   ]
  }
 ],
 "metadata": {
  "kernelspec": {
   "display_name": "Python 3",
   "language": "python",
   "name": "python3"
  },
  "language_info": {
   "codemirror_mode": {
    "name": "ipython",
    "version": 3
   },
   "file_extension": ".py",
   "mimetype": "text/x-python",
   "name": "python",
   "nbconvert_exporter": "python",
   "pygments_lexer": "ipython3",
   "version": "3.7.1"
  }
 },
 "nbformat": 4,
 "nbformat_minor": 2
}
