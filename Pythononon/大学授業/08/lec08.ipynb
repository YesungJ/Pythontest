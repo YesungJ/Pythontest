{
 "cells": [
  {
   "cell_type": "markdown",
   "metadata": {
    "colab_type": "text",
    "id": "53OtdG5HwhD4"
   },
   "source": [
    "## 第８回 講義用ノートブック (P.111-120)\n",
    "### Chapter 5 条件分岐，繰り返し，例外処理\n",
    "### Section 5-2.  while文／条件が満たされている間繰り返す(P.111)"
   ]
  },
  {
   "cell_type": "markdown",
   "metadata": {
    "colab_type": "text",
    "id": "pmQGn3Uqpjft"
   },
   "source": [
    "#### 条件に合えば実行を繰り返す  while"
   ]
  },
  {
   "cell_type": "markdown",
   "metadata": {
    "colab_type": "text",
    "id": "rg2CAhqtpjfy"
   },
   "source": [
    "* 変数countの値が５以上になるまで処理を繰り返す"
   ]
  },
  {
   "cell_type": "code",
   "execution_count": null,
   "metadata": {
    "colab": {},
    "colab_type": "code",
    "id": "wJhDA-bvr4ls"
   },
   "outputs": [],
   "source": []
  },
  {
   "cell_type": "markdown",
   "metadata": {
    "colab_type": "text",
    "id": "A0WnV83qr4-p"
   },
   "source": [
    "* 指定した回数（tickets = 5）だけ乱数を発生し，それを足し合わせる\n",
    "    * form random import randint #整数の乱数を発生させるため\n",
    "    * formatを使って３桁右詰"
   ]
  },
  {
   "cell_type": "code",
   "execution_count": null,
   "metadata": {
    "colab": {},
    "colab_type": "code",
    "id": "YuePHL3sr5J6"
   },
   "outputs": [],
   "source": []
  },
  {
   "cell_type": "markdown",
   "metadata": {
    "colab_type": "text",
    "id": "bm5QHdcbr5RH"
   },
   "source": [
    "* 繰り返しを中断して終了 break，無限ループ\n",
    "    * while文を使って無限ループ\n",
    "    * break文でループを抜ける\n",
    "    * 誤って無限ループが終了しない場合は，キーボードのコントロールキーと\"z\"を同時に押す（control + z)"
   ]
  },
  {
   "cell_type": "markdown",
   "metadata": {},
   "source": [
    "* P. 114の足し算が２１になると無限ループが止まるコードを入力し実行してみよう"
   ]
  },
  {
   "cell_type": "code",
   "execution_count": null,
   "metadata": {
    "colab": {},
    "colab_type": "code",
    "id": "qgHqPvt6r5ZC"
   },
   "outputs": [],
   "source": []
  },
  {
   "cell_type": "markdown",
   "metadata": {},
   "source": [
    "* P.115の足し算ゲームを打ち込んで実行してみよう!ただし，乱数は1〜10の範囲の整数にすること．"
   ]
  },
  {
   "cell_type": "code",
   "execution_count": null,
   "metadata": {},
   "outputs": [],
   "source": []
  },
  {
   "cell_type": "markdown",
   "metadata": {
    "colab_type": "text",
    "id": "Sdx9fefNr5g8"
   },
   "source": [
    "* 繰り返しをスキップする continue文\n",
    "    * if n in numbers # 選んだ数nがnumbersの中に入っているか（True）入っていないか（False)を判定"
   ]
  },
  {
   "cell_type": "code",
   "execution_count": 2,
   "metadata": {
    "colab": {},
    "colab_type": "code",
    "id": "KPV_-Jcmr5oq"
   },
   "outputs": [
    {
     "name": "stdout",
     "output_type": "stream",
     "text": [
      "False\n",
      "True\n"
     ]
    }
   ],
   "source": [
    "numbers = [1, 2, 3, 4]\n",
    "n = 5\n",
    "print(n in numbers)\n",
    "n = 2\n",
    "print(n in numbers)"
   ]
  },
  {
   "cell_type": "markdown",
   "metadata": {
    "colab_type": "text",
    "id": "LDB-TjBbxr96"
   },
   "source": [
    "* numbers.append(n) # オブジェクトnumbersに，nを追加"
   ]
  },
  {
   "cell_type": "code",
   "execution_count": 5,
   "metadata": {
    "colab": {},
    "colab_type": "code",
    "id": "PrE9UqaXxsEo"
   },
   "outputs": [
    {
     "name": "stdout",
     "output_type": "stream",
     "text": [
      "[1, 2, 3, 4]\n",
      "[1, 2, 3, 4, 5]\n"
     ]
    }
   ],
   "source": [
    "numbers = [1, 2, 3, 4]\n",
    "print(numbers)\n",
    "numbers.append(5)\n",
    "print(numbers)"
   ]
  },
  {
   "cell_type": "markdown",
   "metadata": {
    "colab_type": "text",
    "id": "Vh3whaybxsJs"
   },
   "source": [
    "* P. 118の重複しない値が１０個入ったリストを作るコードを入力し，実行してみよう"
   ]
  },
  {
   "cell_type": "code",
   "execution_count": null,
   "metadata": {
    "colab": {},
    "colab_type": "code",
    "id": "53m9PqwlxsOy"
   },
   "outputs": [],
   "source": []
  },
  {
   "cell_type": "markdown",
   "metadata": {},
   "source": [
    "* 繰り返した後で実行する while〜else\n",
    "* P. 120のコードを入力し，実行してみよう"
   ]
  },
  {
   "cell_type": "code",
   "execution_count": null,
   "metadata": {},
   "outputs": [],
   "source": []
  }
 ],
 "metadata": {
  "colab": {
   "collapsed_sections": [],
   "name": "lec06.ipynb",
   "provenance": [],
   "version": "0.3.2"
  },
  "kernelspec": {
   "display_name": "Python 3",
   "language": "python",
   "name": "python3"
  },
  "language_info": {
   "codemirror_mode": {
    "name": "ipython",
    "version": 3
   },
   "file_extension": ".py",
   "mimetype": "text/x-python",
   "name": "python",
   "nbconvert_exporter": "python",
   "pygments_lexer": "ipython3",
   "version": "3.7.3"
  }
 },
 "nbformat": 4,
 "nbformat_minor": 2
}
