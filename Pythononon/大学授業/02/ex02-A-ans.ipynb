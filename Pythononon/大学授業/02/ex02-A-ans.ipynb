{
 "cells": [
  {
   "cell_type": "markdown",
   "metadata": {
    "colab_type": "text",
    "id": "EqgDyWj4fXmV"
   },
   "source": [
    "# 2019年4月16日（火曜日）\n",
    "# プログラミングI課題"
   ]
  },
  {
   "cell_type": "markdown",
   "metadata": {
    "colab_type": "text",
    "id": "Jxr2BBvMumqM"
   },
   "source": [
    "### 注意事項\n",
    "* 次回以降，プログラミング基礎1の講義や演習で新しくノートブックを作成したりアップロードしたりするときは， \n",
    "左のサイドバーで \"prokiso1-2019\" のフォルダに移動してから行おう．\n",
    "* 左のサイドバーで上位フォルダに移動するには，上部にあるフォルダ名をクリックすれば移動できる．\n",
    "\n",
    "* **その他にも，様々な機能が JupyterLab にはある．その操作を全て講義で説明することはできないが，知っていると便利な機能も沢山あるので，家で自分で調べておこう．**\n",
    "\n"
   ]
  },
  {
   "cell_type": "markdown",
   "metadata": {
    "colab_type": "text",
    "id": "RXgofbHnhBTd"
   },
   "source": [
    "## 課題1 (数値演算子)\n",
    "\n",
    "平面において，原点$(0,0)$ と点$(x,y)$ との距離$L$は，$L=(x^2 + y^2 )^{\\frac{1}{2}}$ で計算できる．\n",
    "\n",
    "変数 x, y に，適当な数字(例えば1, 2) を代入し，距離$L$を計算して表示するプログラムを作成せよ．\n",
    " \n",
    "ヒント:$\\frac{1}{2} = 0.5$ である．べき乗の計算をするにはどうすればいいか．"
   ]
  },
  {
   "cell_type": "code",
   "execution_count": 3,
   "metadata": {
    "colab": {},
    "colab_type": "code",
    "id": "9Y3jvcbWhBeA"
   },
   "outputs": [
    {
     "data": {
      "text/plain": [
       "2.23606797749979"
      ]
     },
     "execution_count": 3,
     "metadata": {},
     "output_type": "execute_result"
    }
   ],
   "source": [
    "x = 1\n",
    "y = 2\n",
    "(x*x + y*y)**0.5  # 色んなバリエーションあり (x**2 + y**2)**(1/2) など"
   ]
  },
  {
   "cell_type": "markdown",
   "metadata": {
    "colab_type": "text",
    "id": "uN54cDHLfXmY"
   },
   "source": [
    "## 課題2(print文の書式)\n",
    "変数a, b, cにそれぞれ20, 40, 60の値を入れる．\n",
    "a+b+c の値を計算せよ．\n",
    "\n",
    "また，print文の書式をうまく用いることにより，print文 を2回使って\n",
    "「20+40+60=120」のように式の形で表示せよ．\n",
    "\n",
    "1つ目のprint 文では，\"+\"を区切り文字，\"=\"を行末文字として指定すればよい．(教科書P.49参考)"
   ]
  },
  {
   "cell_type": "code",
   "execution_count": 6,
   "metadata": {
    "colab": {},
    "colab_type": "code",
    "id": "Xgc_MNbpfXma"
   },
   "outputs": [
    {
     "name": "stdout",
     "output_type": "stream",
     "text": [
      "20+40+60=120\n"
     ]
    }
   ],
   "source": [
    "a=20\n",
    "b=40\n",
    "c=60\n",
    "print(a,b,c, sep=\"+\", end=\"=\")\n",
    "print(a+b+c)"
   ]
  },
  {
   "cell_type": "markdown",
   "metadata": {
    "colab_type": "text",
    "id": "EusPPzWnZCsZ"
   },
   "source": [
    "## 課題3(整数の割り算と余り)\n",
    "変数 num に 自分の学籍番号下3桁を代入し，変数 m には 6 を代入する．\n",
    "num を m で割った商，および余りを計算し，表示するプログラムを作成せよ．\n",
    "\n",
    "num = 999 としたときの表示例） \n",
    "> 166 <br>\n",
    "> 3"
   ]
  },
  {
   "cell_type": "code",
   "execution_count": 7,
   "metadata": {
    "colab": {},
    "colab_type": "code",
    "id": "xZyrMWuyZC0q"
   },
   "outputs": [
    {
     "name": "stdout",
     "output_type": "stream",
     "text": [
      "166\n",
      "3\n"
     ]
    }
   ],
   "source": [
    "num = 999\n",
    "m = 6\n",
    "print( num//m )\n",
    "print( num%m )"
   ]
  },
  {
   "cell_type": "markdown",
   "metadata": {
    "colab_type": "text",
    "id": "weBkMX7UZaj7"
   },
   "source": [
    "## 課題4(文字列演算子)\n",
    "変数 a, b, c, d  にそれぞれ \"解けなく\", \"起きなく\", \"ても\", \"いいじゃない\" という文字列を代入せよ．\n",
    "\n",
    "また，変数 e に \"\\n\"  (改行記号を表す文字列)を代入せよ．\n",
    "\n",
    "次に，変数 a, b, c, d, e をうまく使って連結して，次のような 3行(つまり改行記号を2回はさむ)の文字列を作成し，\n",
    "変数 poem に代入せよ．\n",
    "\n",
    "\n",
    "> 解けなくてもいいじゃない  <br>\n",
    "> 起きなくてもいいじゃない  <br>\n",
    "> 解けなくても起きなくても  <br>\n",
    "\n",
    "最後に，変数 poem を 出力せよ．"
   ]
  },
  {
   "cell_type": "code",
   "execution_count": 5,
   "metadata": {
    "colab": {},
    "colab_type": "code",
    "id": "uBY9UipCZasY"
   },
   "outputs": [
    {
     "name": "stdout",
     "output_type": "stream",
     "text": [
      "解けなくてもいいじゃない\n",
      "起きなくてもいいじゃない\n",
      "解けなくても起きなくても\n"
     ]
    }
   ],
   "source": [
    "a = \"解けなく\"\n",
    "b = \"起きなく\"\n",
    "c = \"ても\"\n",
    "d = \"いいじゃない\"\n",
    "e = \"\\n\"\n",
    "poem = a+c+d +e+ b+c+d +e+ a+c+b+c\n",
    "print(poem)"
   ]
  },
  {
   "cell_type": "markdown",
   "metadata": {
    "colab_type": "text",
    "id": "NFFHpnvCfs1T"
   },
   "source": [
    "## 追加課題1(16進数; 時間が余った人のみ)\n",
    "Webサイトなどで扱われるカラーコードは，RGB値を16進数6桁の値に変換し，その先頭に\"#\"を付加したものである．\n",
    "\n",
    "※RGB値・・・赤(Red)，緑(Green)，青(Blue)を組み合わせた色の値であり，各色0～255の値で色を指定する．\n",
    "\n",
    "例）色名：greenyellow\n",
    "\n",
    "　　カラーコード : #adff2f\n",
    "\n",
    "　　RGB値： R:173 G:255 B:47　（\"ab\"=173, \"ff\"=255, \"2f\"=47）\n",
    "\n",
    "変数r, g, bの変数を使って，色名tomato（カラーコード: #ff6347）のRGB値を求めよ．表示方法はprint(r, g, b)で良い．\n"
   ]
  },
  {
   "cell_type": "code",
   "execution_count": 9,
   "metadata": {
    "colab": {},
    "colab_type": "code",
    "id": "-57y4bgPfZm1"
   },
   "outputs": [
    {
     "name": "stdout",
     "output_type": "stream",
     "text": [
      "255 99 71\n"
     ]
    }
   ],
   "source": [
    "r = 0xff\n",
    "g = 0x63\n",
    "b = 0x47\n",
    "print(r, g, b)"
   ]
  },
  {
   "cell_type": "markdown",
   "metadata": {
    "colab_type": "text",
    "id": "Ye8v1LjqgEuF"
   },
   "source": [
    "## 追加課題2(複素数; 時間が余った人のみ)\n",
    "(3+7j)*(2+4j)の計算結果を，実部と虚部に分けてそれぞれ表示せよ．"
   ]
  },
  {
   "cell_type": "code",
   "execution_count": 8,
   "metadata": {
    "colab": {},
    "colab_type": "code",
    "id": "GEoPHfDBgISx"
   },
   "outputs": [
    {
     "name": "stdout",
     "output_type": "stream",
     "text": [
      "-22.0\n",
      "26.0\n"
     ]
    }
   ],
   "source": [
    "v = (3+7j)*(2+4j)\n",
    "print(v.real)\n",
    "print(v.imag)"
   ]
  }
 ],
 "metadata": {
  "colab": {
   "collapsed_sections": [],
   "name": "Copy of ex02-B.ipynb",
   "provenance": [],
   "toc_visible": true,
   "version": "0.3.2"
  },
  "kernelspec": {
   "display_name": "Python 3",
   "language": "python",
   "name": "python3"
  },
  "language_info": {
   "codemirror_mode": {
    "name": "ipython",
    "version": 3
   },
   "file_extension": ".py",
   "mimetype": "text/x-python",
   "name": "python",
   "nbconvert_exporter": "python",
   "pygments_lexer": "ipython3",
   "version": "3.7.3"
  }
 },
 "nbformat": 4,
 "nbformat_minor": 2
}
