{
 "cells": [
  {
   "cell_type": "markdown",
   "metadata": {
    "colab_type": "text",
    "id": "53OtdG5HwhD4"
   },
   "source": [
    "## 第7回 講義用ノートブック (P.96-110)\n",
    "### Chapter 5 条件分岐，繰り返し\n",
    "### Section 5-1.  if文/条件で処理を分岐する(P.96)"
   ]
  },
  {
   "cell_type": "markdown",
   "metadata": {
    "colab_type": "text",
    "id": "pmQGn3Uqpjft"
   },
   "source": [
    "#### 条件に合えば分岐する ( if ~ )\n",
    "\n",
    "> if 条件式 : <br>\n",
    "> 　　　ステートメント(ifの中) <br>\n",
    "> if文終了 <br>"
   ]
  },
  {
   "cell_type": "code",
   "execution_count": null,
   "metadata": {
    "colab": {},
    "colab_type": "code",
    "id": "wJhDA-bvr4ls"
   },
   "outputs": [],
   "source": []
  },
  {
   "cell_type": "markdown",
   "metadata": {},
   "source": [
    "インデントを意識しよう"
   ]
  },
  {
   "cell_type": "code",
   "execution_count": null,
   "metadata": {},
   "outputs": [],
   "source": []
  },
  {
   "cell_type": "markdown",
   "metadata": {},
   "source": [
    "#### 条件に合う場合の処理と合わない場合の処理  ( if ~ else ~ ) (P.99)\n",
    "\n",
    "> if 条件式 : <br>\n",
    "> 　　# 処理 A (ifの中)<br>\n",
    "> else : <br>\n",
    "> 　　# 処理 B (elseの中)<br>\n",
    "> if文終了 <br>"
   ]
  },
  {
   "cell_type": "code",
   "execution_count": null,
   "metadata": {},
   "outputs": [],
   "source": []
  },
  {
   "cell_type": "markdown",
   "metadata": {},
   "source": [
    "* sum が 100 以上ならば「合格」，100未満なら「不合格」と出力． (P.100)"
   ]
  },
  {
   "cell_type": "code",
   "execution_count": null,
   "metadata": {},
   "outputs": [],
   "source": []
  },
  {
   "cell_type": "markdown",
   "metadata": {},
   "source": [
    "#### 3つ以上の選択肢がある場合 (if ~ elif ~ else ~) (P.101)\n",
    "\n",
    "> if 条件式１ : <br>\n",
    "> 　　# 処理 A (ifの中)<br>\n",
    "> elif 条件式２ : <br>\n",
    "> 　　# 処理 B (elifの中)<br>\n",
    "> else : <br>\n",
    "> 　　# 処理 B (elseの中)<br>\n",
    "> if文終了 <br>"
   ]
  },
  {
   "cell_type": "code",
   "execution_count": null,
   "metadata": {},
   "outputs": [],
   "source": []
  },
  {
   "cell_type": "markdown",
   "metadata": {},
   "source": [
    "* 乱数で作った値を判定して結果（「Aクラス」,「Bクラス」,「Cクラス」 or 「不適合」）を出力する． (P.102)"
   ]
  },
  {
   "cell_type": "code",
   "execution_count": null,
   "metadata": {},
   "outputs": [],
   "source": []
  },
  {
   "cell_type": "markdown",
   "metadata": {},
   "source": [
    "#### if文のネスティングと論理演算 (P.103)\n",
    "ネスティング = 「入れ子」構造\n",
    "\n",
    "> if 条件式１: <br>\n",
    "> 　　# 処理 ( if の中 (深さ1の入れ子の中) )<br>\n",
    "> 　　if 条件式２ : <br>\n",
    "> 　　　　# 処理 ( if の中の if の中 (深さ2の入れ子の中) ) <br>\n",
    "> 　　else : <br>\n",
    "> 　　　　# 処理 ( if の中の else の中 (深さ2の入れ子の中) ) <br>\n",
    "> else : <br>\n",
    "> 　　# 処理 ( else の中 (深さ1の入れ子の中) )<br>\n",
    "> 　　...<br>"
   ]
  },
  {
   "cell_type": "markdown",
   "metadata": {},
   "source": [
    "* if 文のネスティングを使って size と weight を判定する．(P.104)\n",
    "  * size >= 10 かつ weight >= 25"
   ]
  },
  {
   "cell_type": "code",
   "execution_count": null,
   "metadata": {},
   "outputs": [],
   "source": []
  },
  {
   "cell_type": "markdown",
   "metadata": {},
   "source": [
    "* 論理演算子 and を使った条件式 (P.105)\n",
    "\n",
    "動作は上と同じ(書き方が違う)"
   ]
  },
  {
   "cell_type": "code",
   "execution_count": null,
   "metadata": {},
   "outputs": [],
   "source": []
  },
  {
   "cell_type": "markdown",
   "metadata": {},
   "source": [
    "* a，b ともに 40 以上で，かつ，a+b が 120 以上ならば「合格」．(P.106)"
   ]
  },
  {
   "cell_type": "code",
   "execution_count": null,
   "metadata": {},
   "outputs": [],
   "source": []
  },
  {
   "cell_type": "markdown",
   "metadata": {},
   "source": [
    "* or を使う．size と weight のどちらか片方でもTrue ならば「合格」(P.107)"
   ]
  },
  {
   "cell_type": "code",
   "execution_count": null,
   "metadata": {},
   "outputs": [],
   "source": []
  },
  {
   "cell_type": "markdown",
   "metadata": {},
   "source": [
    "* False とみなされる値 (P.107)"
   ]
  },
  {
   "cell_type": "code",
   "execution_count": null,
   "metadata": {},
   "outputs": [],
   "source": []
  },
  {
   "cell_type": "markdown",
   "metadata": {},
   "source": [
    "* 変数 name が空ならば，文字列 \"匿名\" を代入する．"
   ]
  },
  {
   "cell_type": "code",
   "execution_count": null,
   "metadata": {},
   "outputs": [],
   "source": []
  },
  {
   "cell_type": "markdown",
   "metadata": {},
   "source": [
    "* 2で割った余りが 0，つまり False になることを使って奇数か偶数か振り分ける．"
   ]
  },
  {
   "cell_type": "code",
   "execution_count": null,
   "metadata": {},
   "outputs": [],
   "source": []
  },
  {
   "cell_type": "markdown",
   "metadata": {},
   "source": [
    "#### 条件式を簡略化して書く (P.109)"
   ]
  },
  {
   "cell_type": "markdown",
   "metadata": {},
   "source": [
    "* and 演算を簡略化して書く\n",
    "\n",
    "0-10 の乱数 a が 5 以上 8 以下のときに True．(P.109)"
   ]
  },
  {
   "cell_type": "code",
   "execution_count": null,
   "metadata": {},
   "outputs": [],
   "source": []
  },
  {
   "cell_type": "markdown",
   "metadata": {},
   "source": [
    "* 値１ if 条件式 else 値２\n",
    "\n",
    "最大値を返す (P.110)"
   ]
  },
  {
   "cell_type": "code",
   "execution_count": null,
   "metadata": {},
   "outputs": [],
   "source": []
  }
 ],
 "metadata": {
  "colab": {
   "collapsed_sections": [],
   "name": "lec06.ipynb",
   "provenance": [],
   "version": "0.3.2"
  },
  "kernelspec": {
   "display_name": "Python 3",
   "language": "python",
   "name": "python3"
  },
  "language_info": {
   "codemirror_mode": {
    "name": "ipython",
    "version": 3
   },
   "file_extension": ".py",
   "mimetype": "text/x-python",
   "name": "python",
   "nbconvert_exporter": "python",
   "pygments_lexer": "ipython3",
   "version": "3.6.5"
  }
 },
 "nbformat": 4,
 "nbformat_minor": 2
}
