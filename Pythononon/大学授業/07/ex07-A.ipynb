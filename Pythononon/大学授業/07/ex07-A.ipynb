{
 "cells": [
  {
   "cell_type": "markdown",
   "metadata": {},
   "source": [
    "# 2019年5月28日（火曜日）\n",
    "# プログラミング基礎I課題"
   ]
  },
  {
   "cell_type": "markdown",
   "metadata": {
    "colab_type": "text",
    "id": "Jxr2BBvMumqM"
   },
   "source": [
    "### 注意事項\n",
    "* 次回以降、プログラミング基礎1の講義や演習で新しくノートブックを作成したりアップロードしたりするときは、 \n",
    "左のサイドバーで \"prokiso1-2019\" のフォルダに移動してから行おう。\n",
    "* 左のサイドバーで上位フォルダに移動するには、上部にあるフォルダ名をクリックすれば移動できる。\n",
    "\n",
    "* **その他にも、様々な機能が JupyterLab にはある。その操作を全て講義で説明することはできないが、知っていると便利な機能も沢山あるので、家で自分で調べておこう。**\n",
    "\n"
   ]
  },
  {
   "cell_type": "markdown",
   "metadata": {},
   "source": [
    "## 課題1\n",
    "### 課題1-1\n",
    "変数a, b, c, dに、それぞれ20, 40, 80, 40の値を代入し、<br>\n",
    "a, b, cの値がそれぞれ d より小さければ、以下のように出力するプログラムを作成せよ。<br>\n",
    "ただし、それぞれの値でif文を用いる。\n",
    "\n",
    "【実行結果】\n",
    ">20 is less than 40"
   ]
  },
  {
   "cell_type": "code",
   "execution_count": null,
   "metadata": {},
   "outputs": [],
   "source": []
  },
  {
   "cell_type": "markdown",
   "metadata": {},
   "source": [
    "### 課題1-2\n",
    "変数a, b, c, dに、それぞれ20, 40, 80, 40の値を代入し、<br>\n",
    "a, b, cの値がそれぞれ d 以下であれば、以下のように出力するプログラムを作成せよ。<br>\n",
    "ただし、それぞれの値でif文を用いる。\n",
    "\n",
    "【実行結果】\n",
    ">20 is less than or equal to 40<br>\n",
    ">40 is less than or equal to 40"
   ]
  },
  {
   "cell_type": "code",
   "execution_count": null,
   "metadata": {},
   "outputs": [],
   "source": []
  },
  {
   "cell_type": "markdown",
   "metadata": {},
   "source": [
    "## 課題2\n",
    "\n",
    "変数a, bにそれぞれ0から10までの乱数を代入し、aが7より大きくなおかつbが3の時に「A」を、<br>\n",
    "その条件は満たさないがaが2以上またはbが8の時に「B」を、<br>\n",
    "それ以外であれば「C」を出力するプログラムをif文で論理演算子を使用して、以下の実行結果を参考に作成せよ。\n",
    "\n",
    "【実行結果の例】\n",
    ">a=1, b=0, 判定：C"
   ]
  },
  {
   "cell_type": "code",
   "execution_count": null,
   "metadata": {},
   "outputs": [],
   "source": []
  },
  {
   "cell_type": "markdown",
   "metadata": {},
   "source": [
    "## 課題3\n",
    "変数a, bにそれぞれ0から100までの乱数を代入する。<br>\n",
    "aの値が60より小さい場合、bの値が90より大きければa×bの値を出力し、<br>\n",
    "bの値が50以上90以下であればa×b×0.6の値を出力し、<br>\n",
    "bの値が50より少なければa×b×0.1の値を出力する。<br>\n",
    "aの値が60以上の場合、0と出力する。<br>\n",
    "以上のようなプログラムをif文でネスティングを使用して、以下の実行結果を参考に作成せよ。\n",
    "\n",
    "【実行結果の例】\n",
    ">a=31, b=80, 結果：1488"
   ]
  },
  {
   "cell_type": "code",
   "execution_count": null,
   "metadata": {},
   "outputs": [],
   "source": []
  },
  {
   "cell_type": "markdown",
   "metadata": {},
   "source": [
    "## 課題４\n",
    "変数heightとweightにそれぞれ身長〔m〕、体重〔kg〕を代入し、<br>\n",
    "BMI(Body Mass Index)を計算して出力するプログラムを作成せよ<br>\n",
    "また、BMIが18未満であればslimming、18以上25未満であればstandard、25以上であればobesityと表示するようにせよ。 <br>\n",
    "BMI は weight〔kg〕/（height〔m〕*height〔m〕） で計算できる。\n"
   ]
  },
  {
   "cell_type": "code",
   "execution_count": null,
   "metadata": {},
   "outputs": [],
   "source": []
  },
  {
   "cell_type": "markdown",
   "metadata": {},
   "source": [
    "## 追加課題1\n",
    "変数blood1とblood2それぞれに、A,B,Oの3つのうち1つをキーボードから入力して代入する（p.77参照）。 <br>\n",
    "血液型を判定するプログラムをif文を使って作成せよ。<br>\n",
    "血液型は、ABまたはBAであればAB型、OOであればO型、AO, OA, AAのいずれかであればA型、BO, OB, BBのいずれかであればB型になる。<br>\n",
    "以下の出力結果を参考に、プログラムを作成せよ。\n",
    "\n",
    "【実行結果の例】\n",
    ">blood1を入力してください。 B <br>\n",
    "blood2を入力してください。 O <br>\n",
    "血液型はB型です。"
   ]
  },
  {
   "cell_type": "code",
   "execution_count": null,
   "metadata": {},
   "outputs": [],
   "source": []
  },
  {
   "cell_type": "markdown",
   "metadata": {},
   "source": [
    "## 追加課題2\n",
    "以下のルールに従うと、西暦年がうるう年かどうかを判定できる。<br>\n",
    "西暦の年に対して、<br>\n",
    "1.西暦年が「4で割り切れない」場合は，平年（365日）。<br>\n",
    "2.西暦年が「4で割り切れ」，かつ「100で割り切れない」場合は，うるう年（366日）。<br>\n",
    "3.西暦年が「4で割り切れ」，かつ「100で割り切れ」，かつ「400では割り切れない」場合は，平年（365日）。<br>\n",
    "4.西暦年が「4で割り切れ」，かつ「100で割り切れ」，かつ「400で割り切れる」場合は，うるう年（366日）。<br>\n",
    "以上のルールに従って、西暦年をキーボードから入力して代入し（p.77参照）、うるう年を判定するプログラムを作成せよ。 \n",
    "\n",
    "\n",
    "【別の考え方】\n",
    "西暦をnとする．\n",
    "1. 「nが４の倍数」かつ「nが100の倍数」かつ「400の倍数」→nはうるう年\n",
    "2. 「nが４の倍数」かつ「nが100の倍数」かつ「400の倍数でない」→nは平年\n",
    "3. 「nが４の倍数」かつ「nが100の倍数でない」→nはうるう年\n",
    "4. 「nが4の倍数でない」→nは平年\n",
    "\n",
    "【実行結果の例】\n",
    ">西暦年を入力してください。 1920 <br>\n",
    "1920年はうるう年。"
   ]
  },
  {
   "cell_type": "code",
   "execution_count": null,
   "metadata": {},
   "outputs": [],
   "source": []
  },
  {
   "cell_type": "markdown",
   "metadata": {},
   "source": [
    "## 追加課題3\n",
    "ツェラーの公式を使うと、1582年10月15日以降の日付から曜日を計算することができる。<br>\n",
    "年をyear、月をmonth、日をdayとした時、曜日(day_of_the_week)は <br>\n",
    " day_of_the_week = (year + (year // 4) - (year // 100) + (year // 400) + ((13*month+8) // 5) + day) % 7 <br>\n",
    "という式で計算できる。<br>\n",
    "曜日は整数として、0が日曜日、1が月曜日、2が火曜日、3が水曜日、4が木曜日、5が金曜日、6が土曜日となる。<br>\n",
    "ただし、1月と2月はそれぞれ前の年の13月、14月として計算する必要がある。例えば、2000年1月というのは上の計算式では、1999年13月として計算しなければならない。<br>\n",
    "自分の生年月日をキーボードから入力して代入し（p.77参照）、生まれた日が何曜日かを調べなさい。 <br>\n",
    "\n",
    "【実行結果の例（学園長の生年月日）】\n",
    ">西暦年を入力してください。 1920<br>\n",
    "月を入力してください。 10<br>\n",
    "日を入力してください。 8<br>\n",
    "1920年10月8日は金曜日です。"
   ]
  },
  {
   "cell_type": "code",
   "execution_count": null,
   "metadata": {},
   "outputs": [],
   "source": []
  }
 ],
 "metadata": {
  "kernelspec": {
   "display_name": "Python 3",
   "language": "python",
   "name": "python3"
  },
  "language_info": {
   "codemirror_mode": {
    "name": "ipython",
    "version": 3
   },
   "file_extension": ".py",
   "mimetype": "text/x-python",
   "name": "python",
   "nbconvert_exporter": "python",
   "pygments_lexer": "ipython3",
   "version": "3.7.3"
  }
 },
 "nbformat": 4,
 "nbformat_minor": 2
}
