{
 "cells": [
  {
   "cell_type": "markdown",
   "metadata": {},
   "source": [
    "# 2019年5月28日（火曜日）\n",
    "# プログラミング基礎I課題"
   ]
  },
  {
   "cell_type": "markdown",
   "metadata": {
    "colab_type": "text",
    "id": "Jxr2BBvMumqM"
   },
   "source": [
    "### 注意事項\n",
    "* 次回以降、プログラミング基礎1の講義や演習で新しくノートブックを作成したりアップロードしたりするときは、 \n",
    "左のサイドバーで \"prokiso1-2019\" のフォルダに移動してから行おう。\n",
    "* 左のサイドバーで上位フォルダに移動するには、上部にあるフォルダ名をクリックすれば移動できる。\n",
    "\n",
    "* **その他にも、様々な機能が JupyterLab にはある。その操作を全て講義で説明することはできないが、知っていると便利な機能も沢山あるので、家で自分で調べておこう。**\n",
    "\n"
   ]
  },
  {
   "cell_type": "markdown",
   "metadata": {},
   "source": [
    "## 課題1\n",
    "### 課題1-1\n",
    "変数a, b, c, dに、それぞれ20, 40, 80, 40の値を代入し、<br>\n",
    "a, b, cの値がそれぞれ d より小さければ、以下のように出力するプログラムを作成せよ。<br>\n",
    "ただし、それぞれの値でif文を用いる。\n",
    "\n",
    "【実行結果】\n",
    ">20 is less than 40"
   ]
  },
  {
   "cell_type": "code",
   "execution_count": 4,
   "metadata": {},
   "outputs": [
    {
     "name": "stdout",
     "output_type": "stream",
     "text": [
      "20 is less than 40\n"
     ]
    }
   ],
   "source": [
    "a = 20\n",
    "b = 40\n",
    "c = 80\n",
    "d = 40\n",
    "if a<d :\n",
    "    print(str(a) + \" is less than \" + str(d))\n",
    "if b<d :\n",
    "    print(str(b) + \" is less than \" + str(d))\n",
    "if c<d :\n",
    "    print(str(c) + \" is less than \" + str(d))\n"
   ]
  },
  {
   "cell_type": "markdown",
   "metadata": {},
   "source": [
    "### 課題1-2\n",
    "変数a, b, c, dに、それぞれ20, 40, 80, 40の値を代入し、<br>\n",
    "a, b, cの値がそれぞれ d 以下であれば、以下のように出力するプログラムを作成せよ。<br>\n",
    "ただし、それぞれの値でif文を用いる。\n",
    "\n",
    "【実行結果】\n",
    ">20 is less than or equal to 40<br>\n",
    ">40 is less than or equal to 40"
   ]
  },
  {
   "cell_type": "code",
   "execution_count": 5,
   "metadata": {},
   "outputs": [
    {
     "name": "stdout",
     "output_type": "stream",
     "text": [
      "20 is less than or equal to 40\n",
      "40 is less than or equal to 40\n"
     ]
    }
   ],
   "source": [
    "a = 20\n",
    "b = 40\n",
    "c = 80\n",
    "d = 40\n",
    "if a<=d :\n",
    "    print(str(a) + \" is less than or equal to \" + str(d))\n",
    "if b<=d :\n",
    "    print(str(b) + \" is less than or equal to \" + str(d))\n",
    "if c<=d :\n",
    "    print(str(c) + \" is less than or equal to \" + str(d))"
   ]
  },
  {
   "cell_type": "markdown",
   "metadata": {},
   "source": [
    "## 課題2\n",
    "\n",
    "変数a, bにそれぞれ0から10までの乱数を代入し、aが7より大きくなおかつbが3の時に「A」を、<br>\n",
    "その条件は満たさないがaが2以上またはbが8の時に「B」を、<br>\n",
    "それ以外であれば「C」を出力するプログラムをif文で論理演算子を使用して、以下の実行結果を参考に作成せよ。\n",
    "\n",
    "【実行結果の例】\n",
    ">a=1, b=0, 判定：C"
   ]
  },
  {
   "cell_type": "code",
   "execution_count": 6,
   "metadata": {},
   "outputs": [
    {
     "name": "stdout",
     "output_type": "stream",
     "text": [
      "a=1, b=0, 判定：C\n"
     ]
    }
   ],
   "source": [
    "from random import randint\n",
    "a = randint(0, 10)\n",
    "b = randint(0, 10)\n",
    "if a>7 and b==3 :\n",
    "    result = \"A\"\n",
    "elif a>=2 or b==8 :\n",
    "    result = \"B\"\n",
    "else:\n",
    "    result = \"C\"\n",
    "text = f\"a={a}, b={b}, 判定：{result}\"\n",
    "print(text)"
   ]
  },
  {
   "cell_type": "markdown",
   "metadata": {},
   "source": [
    "## 課題3\n",
    "変数a, bにそれぞれ0から100までの乱数を代入する。<br>\n",
    "aの値が60より小さい場合、bの値が90より大きければa×bの値を出力し、<br>\n",
    "bの値が50以上90以下であればa×b×0.6の値を出力し、<br>\n",
    "bの値が50より少なければa×b×0.1の値を出力する。<br>\n",
    "aの値が60以上の場合、0と出力する。<br>\n",
    "以上のようなプログラムをif文でネスティングを使用して、以下の実行結果を参考に作成せよ。\n",
    "\n",
    "【実行結果の例】\n",
    ">a=31, b=80, 結果：1488"
   ]
  },
  {
   "cell_type": "code",
   "execution_count": 8,
   "metadata": {},
   "outputs": [
    {
     "name": "stdout",
     "output_type": "stream",
     "text": [
      "a=31, b=80, 結果：1488\n"
     ]
    }
   ],
   "source": [
    "from random import randint\n",
    "a = randint(0, 100)\n",
    "b = randint(0, 100)\n",
    "if a<60  :\n",
    "    if b>90 :\n",
    "        result = a*b\n",
    "    elif b>=50 :\n",
    "        result = a*b*0.6\n",
    "    else :\n",
    "        result = a*b*0.1\n",
    "else:\n",
    "    result = 0\n",
    "text = f\"a={a}, b={b}, 結果：{int(result)}\"\n",
    "print(text)"
   ]
  },
  {
   "cell_type": "markdown",
   "metadata": {},
   "source": [
    "## 課題４\n",
    "変数heightとweightにそれぞれ身長〔m〕、体重〔kg〕を代入し、<br>\n",
    "BMI(Body Mass Index)を計算して出力するプログラムを作成せよ。<br>\n",
    "また、BMIが18未満であればslimming、18以上25未満であればstandard、25以上であればobesityと表示するようにせよ。 <br>\n",
    "BMI は weight〔kg〕/（height〔m〕*height〔m〕） で計算できる。\n"
   ]
  },
  {
   "cell_type": "code",
   "execution_count": 13,
   "metadata": {},
   "outputs": [
    {
     "name": "stdout",
     "output_type": "stream",
     "text": [
      "standard\n"
     ]
    }
   ],
   "source": [
    "height = 1.6\n",
    "weight = 60\n",
    "\n",
    "BMI = weight /(height * height)\n",
    "\n",
    "if BMI < 18 :\n",
    "    print(\"slimming\")\n",
    "elif BMI < 25 :\n",
    "    print(\"standard\")\n",
    "else :\n",
    "    print(\"obesity\")\n"
   ]
  },
  {
   "cell_type": "markdown",
   "metadata": {},
   "source": [
    "## 追加課題1\n",
    "変数blood1とblood2それぞれに、A,B,Oの3つのうち1つをキーボードから入力して代入する（p.77参照）。 <br>\n",
    "血液型を判定するプログラムをif文を使って作成せよ。<br>\n",
    "血液型は、ABまたはBAであればAB型、OOであればO型、AO, OA, AAのいずれかであればA型、BO, OB, BBのいずれかであればB型になる。<br>\n",
    "以下の出力結果を参考に、プログラムを作成せよ。\n",
    "\n",
    "【実行結果の例】\n",
    ">blood1を入力してください。 B <br>\n",
    "blood2を入力してください。 O <br>\n",
    "血液型はB型です。"
   ]
  },
  {
   "cell_type": "code",
   "execution_count": 2,
   "metadata": {},
   "outputs": [
    {
     "name": "stdin",
     "output_type": "stream",
     "text": [
      "blood1を入力してください。 B\n",
      "blood2を入力してください。 O\n"
     ]
    },
    {
     "name": "stdout",
     "output_type": "stream",
     "text": [
      "血液型はB型です。\n"
     ]
    }
   ],
   "source": [
    "question1 = f\"blood1を入力してください。\"\n",
    "blood1 = input(question1)\n",
    "question2 = f\"blood2を入力してください。\"\n",
    "blood2 = input(question2)\n",
    "if (blood1 == \"A\" and blood2 == \"B\") or (blood1 == \"B\" and blood2 == \"A\") :\n",
    "    result = \"AB\"\n",
    "elif (blood1 == \"O\" and blood2 == \"O\") :\n",
    "    result = \"O\"\n",
    "elif (blood1 == \"A\" and blood2 == \"O\") or (blood1 == \"O\" and blood2 == \"A\") or (blood1 == \"A\" and blood2 == \"A\") :\n",
    "    result = \"A\"\n",
    "elif (blood1 == \"B\" and blood2 == \"O\") or (blood1 == \"O\" and blood2 == \"B\") or (blood1 == \"B\" and blood2 == \"B\") :\n",
    "    result = \"B\"\n",
    "text = \"血液型は\"+ result+\"型です。\"\n",
    "print(text)"
   ]
  },
  {
   "cell_type": "markdown",
   "metadata": {},
   "source": [
    "## 追加課題2\n",
    "以下のルールに従うと、西暦年がうるう年かどうかを判定できる。<br>\n",
    "西暦の年に対して、<br>\n",
    "1.西暦年が4の倍数。<br>\n",
    "2.西暦年が100の倍数のときは条件1の例外でうるう年ではない。<br>\n",
    "3.西暦年が400の倍数のときは条件2の例外でうるう年ではない。<br>\n",
    "以上のルールに従って、西暦年をキーボードから入力して代入し（p.77参照）、うるう年を判定するプログラムを作成せよ。 \n",
    "\n",
    "【実行結果の例】\n",
    ">西暦年を入力してください。 1920 <br>\n",
    "1920年はうるう年。"
   ]
  },
  {
   "cell_type": "code",
   "execution_count": 1,
   "metadata": {},
   "outputs": [
    {
     "name": "stdin",
     "output_type": "stream",
     "text": [
      "西暦年を入力してください。 1920\n"
     ]
    },
    {
     "name": "stdout",
     "output_type": "stream",
     "text": [
      "1920年はうるう年。\n"
     ]
    }
   ],
   "source": [
    "question = f\"西暦年を入力してください。\"\n",
    "year = int(input(question))\n",
    "leap = False \n",
    "if year % 4 == 0 :\n",
    "    leap = True\n",
    "    if year % 100 == 0 :\n",
    "        leap = False\n",
    "        if year % 400 == 0 :\n",
    "            leap = True\n",
    "else:\n",
    "    leap = False\n",
    "\n",
    "if leap == True:\n",
    "    print(str(year)+'年はうるう年。')\n",
    "else :\n",
    "    print(str(year)+'年はうるう年ではない。')"
   ]
  },
  {
   "cell_type": "markdown",
   "metadata": {},
   "source": [
    "## 追加課題3\n",
    "ツェラーの公式を使うと、1582年10月15日以降の日付から曜日を計算することができる。<br>\n",
    "年をyear、月をmonth、日をdayとした時、曜日(day_of_the_week)は <br>\n",
    " day_of_the_week = (year + (year // 4) - (year // 100) + (year // 400) + ((13*month+8) // 5) + day) % 7 <br>\n",
    "という式で計算できる。<br>\n",
    "曜日は整数として、0が日曜日、1が月曜日、2が火曜日、3が水曜日、4が木曜日、5が金曜日、6が土曜日となる。<br>\n",
    "ただし、1月と2月はそれぞれ前の年の13月、14月として計算する必要がある。例えば、2000年1月というのは上の計算式では、1999年13月として計算しなければならない。<br>\n",
    "自分の生年月日をキーボードから入力して代入し（p.77参照）、生まれた日が何曜日かを調べなさい。 <br>\n",
    "\n",
    "【実行結果の例（学園長の生年月日）】\n",
    ">西暦年を入力してください。 1920<br>\n",
    "月を入力してください。 10<br>\n",
    "日を入力してください。 8<br>\n",
    "1920年10月8日は金曜日です。"
   ]
  },
  {
   "cell_type": "code",
   "execution_count": 4,
   "metadata": {},
   "outputs": [
    {
     "name": "stdin",
     "output_type": "stream",
     "text": [
      "西暦年を入力してください。 1920\n",
      "月を入力してください。 10\n",
      "日を入力してください。 8\n"
     ]
    },
    {
     "name": "stdout",
     "output_type": "stream",
     "text": [
      "1920年10月8日は金曜日です。\n"
     ]
    }
   ],
   "source": [
    "year = int(input(\"西暦年を入力してください。\"))\n",
    "month = int(input(\"月を入力してください。\"))\n",
    "day = int(input(\"日を入力してください。\"))\n",
    "datestr = str(year)+'年'+str(month)+'月'+str(day)+'日'\n",
    "if month == 1 or month == 2 :\n",
    "    year = year - 1\n",
    "    month = month + 12\n",
    "day_of_the_week = (year + (year // 4) - (year // 100) + (year // 400) + ((13*month+8) // 5) + day) % 7\n",
    "if day_of_the_week == 0 :\n",
    "    weekstr = '日曜日'\n",
    "elif day_of_the_week == 1 :\n",
    "    weekstr = '月曜日'\n",
    "elif day_of_the_week == 2 :\n",
    "    weekstr = '火曜日'\n",
    "elif day_of_the_week == 3 :\n",
    "    weekstr = '水曜日'\n",
    "elif day_of_the_week == 4 :\n",
    "    weekstr = '木曜日'\n",
    "elif day_of_the_week == 5 :\n",
    "    weekstr = '金曜日'\n",
    "elif day_of_the_week == 6 :\n",
    "    weekstr = '土曜日'\n",
    "print(datestr+'は'+weekstr+'です。')\n"
   ]
  },
  {
   "cell_type": "code",
   "execution_count": null,
   "metadata": {},
   "outputs": [],
   "source": []
  }
 ],
 "metadata": {
  "kernelspec": {
   "display_name": "Python 3",
   "language": "python",
   "name": "python3"
  },
  "language_info": {
   "codemirror_mode": {
    "name": "ipython",
    "version": 3
   },
   "file_extension": ".py",
   "mimetype": "text/x-python",
   "name": "python",
   "nbconvert_exporter": "python",
   "pygments_lexer": "ipython3",
   "version": "3.7.1"
  }
 },
 "nbformat": 4,
 "nbformat_minor": 2
}
